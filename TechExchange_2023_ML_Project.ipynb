{
  "cells": [
    {
      "cell_type": "markdown",
      "metadata": {
        "id": "view-in-github",
        "colab_type": "text"
      },
      "source": [
        "<a href=\"https://colab.research.google.com/github/Shady-Rouk/Disaster-Tweet-Classifier/blob/main/TechExchange_2023_ML_Project.ipynb\" target=\"_parent\"><img src=\"https://colab.research.google.com/assets/colab-badge.svg\" alt=\"Open In Colab\"/></a>"
      ]
    },
    {
      "cell_type": "markdown",
      "metadata": {
        "id": "ShPq3yXBzJ-M"
      },
      "source": [
        "##Introduction\n",
        "\n",
        "\n"
      ]
    },
    {
      "cell_type": "markdown",
      "metadata": {
        "id": "oFseKXQe3RMU"
      },
      "source": [
        "####Project Overview\n",
        "Twitter has become an important communication channel in times of emergency.\n",
        "The ubiquitousness of smartphones enables people to announce an emergency they’re observing in real-time. Because of this, more agencies are interested in programatically monitoring Twitter (i.e. disaster relief organizations and news agencies).\n",
        "\n",
        "But, it’s not always clear whether a person’s words are actually announcing a disaster. Take this example: \"Look at the sky last night, it was ablaze\"\n",
        "\n",
        "\n",
        "The author explicitly uses the word “ABLAZE” but means it metaphorically. This is clear to a human right away, especially if the tweet includes a visual aid. But it’s less clear to a machine.\n",
        "\n",
        "We are trying to build a machine learning model that predicts which Tweets are about real disasters and which one’s aren’t. We have access to a dataset of 10,000 tweets that were hand classified."
      ]
    },
    {
      "cell_type": "markdown",
      "metadata": {
        "id": "R2X6lNLg3Whv"
      },
      "source": [
        "####Data\n",
        "We are given a train.csv, test.csv and sample_submission.csv.\n",
        "\n",
        "Each sample in the train and test set has the following information:\n",
        "\n",
        "The text of a tweet\n",
        "A keyword from that tweet (although this may be blank!)\n",
        "The location the tweet was sent from (may also be blank)\n",
        "\n",
        "**What are we predicting?**\n",
        "We are predicting whether a given tweet is about a real disaster or not. If so, predict a 1. If not, predict a 0.\n",
        "\n",
        "**Columns**\n",
        "\n",
        "id - a unique identifier for each tweet\n",
        "text - the text of the tweet\n",
        "location - the location the tweet was sent from (may be blank)\n",
        "keyword - a particular keyword from the tweet (may be blank)\n",
        "target - in train.csv only, this denotes whether a tweet is about a real disaster (1) or not (0)"
      ]
    },
    {
      "cell_type": "markdown",
      "metadata": {
        "id": "ZsiN3LE13bta"
      },
      "source": [
        "####Tasks\n",
        "We are trying to build a machine learning model that predicts which Tweets are about real disasters and which one’s aren’t."
      ]
    },
    {
      "cell_type": "markdown",
      "metadata": {
        "id": "bOrTHQRs3gWj"
      },
      "source": [
        "####Challenges\n",
        "1. Generate a baseline. Split the training data into 90% for training and 10% for validation\n",
        "2. Data Analysis: Have at least 2 different methods for learning about the data and understanding the differences between the classes.\n",
        "This can include visualization like histograms or tables/lists of features and their counts in each class, for example.\n",
        "The goal of data analysis is to help you understand the task more deeply.\n",
        "3. Train Tensorflow models to correctly make predictions on the test data.\n",
        "4. Analyze possible errors made by the models trained."
      ]
    },
    {
      "cell_type": "code",
      "execution_count": null,
      "metadata": {
        "id": "KCaO_VmuvVYP"
      },
      "outputs": [],
      "source": [
        "# Import our standard libraries\n",
        "import numpy as np\n",
        "from matplotlib import pyplot as plt\n",
        "import pandas as pd\n",
        "import seaborn as sns # for nicer plots\n",
        "sns.set(style='darkgrid') #default style\n",
        "import tensorflow as tf\n",
        "import sklearn.metrics"
      ]
    },
    {
      "cell_type": "code",
      "execution_count": null,
      "metadata": {
        "colab": {
          "base_uri": "https://localhost:8080/"
        },
        "id": "NnuEcfZykoGK",
        "outputId": "a1b36c4d-dc16-49dc-b3ba-9429fa48082c"
      },
      "outputs": [
        {
          "output_type": "stream",
          "name": "stdout",
          "text": [
            "Mounted at /content/drive\n"
          ]
        }
      ],
      "source": [
        "from google.colab import drive\n",
        "drive.mount('/content/drive')"
      ]
    },
    {
      "cell_type": "markdown",
      "metadata": {
        "id": "kv3iKJL50YYt"
      },
      "source": [
        "## Loading Data for Sentiment Classification"
      ]
    },
    {
      "cell_type": "code",
      "execution_count": null,
      "metadata": {
        "id": "ImN2D_dgu0yv"
      },
      "outputs": [],
      "source": [
        "train_df = pd.read_csv('/content/drive/My Drive/Machine Learning Final Project/train.csv')\n",
        "test_df = pd.read_csv('/content/drive/My Drive/Machine Learning Final Project/test.csv')"
      ]
    },
    {
      "cell_type": "code",
      "execution_count": null,
      "metadata": {
        "colab": {
          "base_uri": "https://localhost:8080/",
          "height": 363
        },
        "id": "aa6ajA8rvOce",
        "outputId": "d9e434ac-d8e8-4cc2-af20-aaaa8eb53953"
      },
      "outputs": [
        {
          "output_type": "display_data",
          "data": {
            "text/plain": [
              "   id keyword location                                               text  \\\n",
              "0   1     NaN      NaN  Our Deeds are the Reason of this #earthquake M...   \n",
              "1   4     NaN      NaN             Forest fire near La Ronge Sask. Canada   \n",
              "2   5     NaN      NaN  All residents asked to 'shelter in place' are ...   \n",
              "3   6     NaN      NaN  13,000 people receive #wildfires evacuation or...   \n",
              "4   7     NaN      NaN  Just got sent this photo from Ruby #Alaska as ...   \n",
              "5   8     NaN      NaN  #RockyFire Update => California Hwy. 20 closed...   \n",
              "6  10     NaN      NaN  #flood #disaster Heavy rain causes flash flood...   \n",
              "7  13     NaN      NaN  I'm on top of the hill and I can see a fire in...   \n",
              "8  14     NaN      NaN  There's an emergency evacuation happening now ...   \n",
              "9  15     NaN      NaN  I'm afraid that the tornado is coming to our a...   \n",
              "\n",
              "   target  \n",
              "0       1  \n",
              "1       1  \n",
              "2       1  \n",
              "3       1  \n",
              "4       1  \n",
              "5       1  \n",
              "6       1  \n",
              "7       1  \n",
              "8       1  \n",
              "9       1  "
            ],
            "text/html": [
              "\n",
              "  <div id=\"df-507f3853-4755-4138-912a-abf2be6e5400\">\n",
              "    <div class=\"colab-df-container\">\n",
              "      <div>\n",
              "<style scoped>\n",
              "    .dataframe tbody tr th:only-of-type {\n",
              "        vertical-align: middle;\n",
              "    }\n",
              "\n",
              "    .dataframe tbody tr th {\n",
              "        vertical-align: top;\n",
              "    }\n",
              "\n",
              "    .dataframe thead th {\n",
              "        text-align: right;\n",
              "    }\n",
              "</style>\n",
              "<table border=\"1\" class=\"dataframe\">\n",
              "  <thead>\n",
              "    <tr style=\"text-align: right;\">\n",
              "      <th></th>\n",
              "      <th>id</th>\n",
              "      <th>keyword</th>\n",
              "      <th>location</th>\n",
              "      <th>text</th>\n",
              "      <th>target</th>\n",
              "    </tr>\n",
              "  </thead>\n",
              "  <tbody>\n",
              "    <tr>\n",
              "      <th>0</th>\n",
              "      <td>1</td>\n",
              "      <td>NaN</td>\n",
              "      <td>NaN</td>\n",
              "      <td>Our Deeds are the Reason of this #earthquake M...</td>\n",
              "      <td>1</td>\n",
              "    </tr>\n",
              "    <tr>\n",
              "      <th>1</th>\n",
              "      <td>4</td>\n",
              "      <td>NaN</td>\n",
              "      <td>NaN</td>\n",
              "      <td>Forest fire near La Ronge Sask. Canada</td>\n",
              "      <td>1</td>\n",
              "    </tr>\n",
              "    <tr>\n",
              "      <th>2</th>\n",
              "      <td>5</td>\n",
              "      <td>NaN</td>\n",
              "      <td>NaN</td>\n",
              "      <td>All residents asked to 'shelter in place' are ...</td>\n",
              "      <td>1</td>\n",
              "    </tr>\n",
              "    <tr>\n",
              "      <th>3</th>\n",
              "      <td>6</td>\n",
              "      <td>NaN</td>\n",
              "      <td>NaN</td>\n",
              "      <td>13,000 people receive #wildfires evacuation or...</td>\n",
              "      <td>1</td>\n",
              "    </tr>\n",
              "    <tr>\n",
              "      <th>4</th>\n",
              "      <td>7</td>\n",
              "      <td>NaN</td>\n",
              "      <td>NaN</td>\n",
              "      <td>Just got sent this photo from Ruby #Alaska as ...</td>\n",
              "      <td>1</td>\n",
              "    </tr>\n",
              "    <tr>\n",
              "      <th>5</th>\n",
              "      <td>8</td>\n",
              "      <td>NaN</td>\n",
              "      <td>NaN</td>\n",
              "      <td>#RockyFire Update =&gt; California Hwy. 20 closed...</td>\n",
              "      <td>1</td>\n",
              "    </tr>\n",
              "    <tr>\n",
              "      <th>6</th>\n",
              "      <td>10</td>\n",
              "      <td>NaN</td>\n",
              "      <td>NaN</td>\n",
              "      <td>#flood #disaster Heavy rain causes flash flood...</td>\n",
              "      <td>1</td>\n",
              "    </tr>\n",
              "    <tr>\n",
              "      <th>7</th>\n",
              "      <td>13</td>\n",
              "      <td>NaN</td>\n",
              "      <td>NaN</td>\n",
              "      <td>I'm on top of the hill and I can see a fire in...</td>\n",
              "      <td>1</td>\n",
              "    </tr>\n",
              "    <tr>\n",
              "      <th>8</th>\n",
              "      <td>14</td>\n",
              "      <td>NaN</td>\n",
              "      <td>NaN</td>\n",
              "      <td>There's an emergency evacuation happening now ...</td>\n",
              "      <td>1</td>\n",
              "    </tr>\n",
              "    <tr>\n",
              "      <th>9</th>\n",
              "      <td>15</td>\n",
              "      <td>NaN</td>\n",
              "      <td>NaN</td>\n",
              "      <td>I'm afraid that the tornado is coming to our a...</td>\n",
              "      <td>1</td>\n",
              "    </tr>\n",
              "  </tbody>\n",
              "</table>\n",
              "</div>\n",
              "      <button class=\"colab-df-convert\" onclick=\"convertToInteractive('df-507f3853-4755-4138-912a-abf2be6e5400')\"\n",
              "              title=\"Convert this dataframe to an interactive table.\"\n",
              "              style=\"display:none;\">\n",
              "        \n",
              "  <svg xmlns=\"http://www.w3.org/2000/svg\" height=\"24px\"viewBox=\"0 0 24 24\"\n",
              "       width=\"24px\">\n",
              "    <path d=\"M0 0h24v24H0V0z\" fill=\"none\"/>\n",
              "    <path d=\"M18.56 5.44l.94 2.06.94-2.06 2.06-.94-2.06-.94-.94-2.06-.94 2.06-2.06.94zm-11 1L8.5 8.5l.94-2.06 2.06-.94-2.06-.94L8.5 2.5l-.94 2.06-2.06.94zm10 10l.94 2.06.94-2.06 2.06-.94-2.06-.94-.94-2.06-.94 2.06-2.06.94z\"/><path d=\"M17.41 7.96l-1.37-1.37c-.4-.4-.92-.59-1.43-.59-.52 0-1.04.2-1.43.59L10.3 9.45l-7.72 7.72c-.78.78-.78 2.05 0 2.83L4 21.41c.39.39.9.59 1.41.59.51 0 1.02-.2 1.41-.59l7.78-7.78 2.81-2.81c.8-.78.8-2.07 0-2.86zM5.41 20L4 18.59l7.72-7.72 1.47 1.35L5.41 20z\"/>\n",
              "  </svg>\n",
              "      </button>\n",
              "      \n",
              "  <style>\n",
              "    .colab-df-container {\n",
              "      display:flex;\n",
              "      flex-wrap:wrap;\n",
              "      gap: 12px;\n",
              "    }\n",
              "\n",
              "    .colab-df-convert {\n",
              "      background-color: #E8F0FE;\n",
              "      border: none;\n",
              "      border-radius: 50%;\n",
              "      cursor: pointer;\n",
              "      display: none;\n",
              "      fill: #1967D2;\n",
              "      height: 32px;\n",
              "      padding: 0 0 0 0;\n",
              "      width: 32px;\n",
              "    }\n",
              "\n",
              "    .colab-df-convert:hover {\n",
              "      background-color: #E2EBFA;\n",
              "      box-shadow: 0px 1px 2px rgba(60, 64, 67, 0.3), 0px 1px 3px 1px rgba(60, 64, 67, 0.15);\n",
              "      fill: #174EA6;\n",
              "    }\n",
              "\n",
              "    [theme=dark] .colab-df-convert {\n",
              "      background-color: #3B4455;\n",
              "      fill: #D2E3FC;\n",
              "    }\n",
              "\n",
              "    [theme=dark] .colab-df-convert:hover {\n",
              "      background-color: #434B5C;\n",
              "      box-shadow: 0px 1px 3px 1px rgba(0, 0, 0, 0.15);\n",
              "      filter: drop-shadow(0px 1px 2px rgba(0, 0, 0, 0.3));\n",
              "      fill: #FFFFFF;\n",
              "    }\n",
              "  </style>\n",
              "\n",
              "      <script>\n",
              "        const buttonEl =\n",
              "          document.querySelector('#df-507f3853-4755-4138-912a-abf2be6e5400 button.colab-df-convert');\n",
              "        buttonEl.style.display =\n",
              "          google.colab.kernel.accessAllowed ? 'block' : 'none';\n",
              "\n",
              "        async function convertToInteractive(key) {\n",
              "          const element = document.querySelector('#df-507f3853-4755-4138-912a-abf2be6e5400');\n",
              "          const dataTable =\n",
              "            await google.colab.kernel.invokeFunction('convertToInteractive',\n",
              "                                                     [key], {});\n",
              "          if (!dataTable) return;\n",
              "\n",
              "          const docLinkHtml = 'Like what you see? Visit the ' +\n",
              "            '<a target=\"_blank\" href=https://colab.research.google.com/notebooks/data_table.ipynb>data table notebook</a>'\n",
              "            + ' to learn more about interactive tables.';\n",
              "          element.innerHTML = '';\n",
              "          dataTable['output_type'] = 'display_data';\n",
              "          await google.colab.output.renderOutput(dataTable, element);\n",
              "          const docLink = document.createElement('div');\n",
              "          docLink.innerHTML = docLinkHtml;\n",
              "          element.appendChild(docLink);\n",
              "        }\n",
              "      </script>\n",
              "    </div>\n",
              "  </div>\n",
              "  "
            ]
          },
          "metadata": {}
        }
      ],
      "source": [
        "display(train_df[:10])"
      ]
    },
    {
      "cell_type": "markdown",
      "metadata": {
        "id": "4-1GXTql0kxw"
      },
      "source": [
        "We will shuffle the current data so that the train-validation split is more consistent with both positive and negative examples."
      ]
    },
    {
      "cell_type": "code",
      "execution_count": null,
      "metadata": {
        "colab": {
          "base_uri": "https://localhost:8080/",
          "height": 363
        },
        "id": "Ft13zqrrmajq",
        "outputId": "dbd80dd0-e127-4446-a59b-3c79975b68ee"
      },
      "outputs": [
        {
          "output_type": "display_data",
          "data": {
            "text/plain": [
              "        id                keyword                       location  \\\n",
              "311    454             armageddon                  Wrigley Field   \n",
              "4970  7086               meltdown                Two Up Two Down   \n",
              "527    762              avalanche      Score Team Goals Buying @   \n",
              "6362  9094         suicide%20bomb                       Roadside   \n",
              "800   1160                 blight            Laventillemoorings    \n",
              "3074  4410            electrocute                     Naperville   \n",
              "1833  2635                crashed                    Lindenhurst   \n",
              "2272  3259               demolish             Eastbourne England   \n",
              "1234  1775  buildings%20on%20fire                 Manchester, NH   \n",
              "1326  1917                burning  [ kate + they/them + infp-t ]   \n",
              "\n",
              "                                                   text  target  \n",
              "311   @KatieKatCubs you already know how this shit g...       0  \n",
              "4970  @LeMaireLee @danharmon People Near Meltdown Co...       0  \n",
              "527   1-6 TIX Calgary Flames vs COL Avalanche Presea...       0  \n",
              "6362  If you ever think you running out of choices i...       0  \n",
              "800   If you dotish to blight your car go right ahea...       0  \n",
              "3074                               Electrocute yourself       0  \n",
              "1833  Thief Broke Front Window Of Hicksville Store S...       0  \n",
              "2272  Doone Silver Architects has won permission to ...       0  \n",
              "1234  Fire destroys two buildings on 2nd Street in #...       1  \n",
              "1326  @minsuwoongs i completely understand because i...       0  "
            ],
            "text/html": [
              "\n",
              "  <div id=\"df-49d714ee-08f6-41fe-a98c-4c937de57f11\">\n",
              "    <div class=\"colab-df-container\">\n",
              "      <div>\n",
              "<style scoped>\n",
              "    .dataframe tbody tr th:only-of-type {\n",
              "        vertical-align: middle;\n",
              "    }\n",
              "\n",
              "    .dataframe tbody tr th {\n",
              "        vertical-align: top;\n",
              "    }\n",
              "\n",
              "    .dataframe thead th {\n",
              "        text-align: right;\n",
              "    }\n",
              "</style>\n",
              "<table border=\"1\" class=\"dataframe\">\n",
              "  <thead>\n",
              "    <tr style=\"text-align: right;\">\n",
              "      <th></th>\n",
              "      <th>id</th>\n",
              "      <th>keyword</th>\n",
              "      <th>location</th>\n",
              "      <th>text</th>\n",
              "      <th>target</th>\n",
              "    </tr>\n",
              "  </thead>\n",
              "  <tbody>\n",
              "    <tr>\n",
              "      <th>311</th>\n",
              "      <td>454</td>\n",
              "      <td>armageddon</td>\n",
              "      <td>Wrigley Field</td>\n",
              "      <td>@KatieKatCubs you already know how this shit g...</td>\n",
              "      <td>0</td>\n",
              "    </tr>\n",
              "    <tr>\n",
              "      <th>4970</th>\n",
              "      <td>7086</td>\n",
              "      <td>meltdown</td>\n",
              "      <td>Two Up Two Down</td>\n",
              "      <td>@LeMaireLee @danharmon People Near Meltdown Co...</td>\n",
              "      <td>0</td>\n",
              "    </tr>\n",
              "    <tr>\n",
              "      <th>527</th>\n",
              "      <td>762</td>\n",
              "      <td>avalanche</td>\n",
              "      <td>Score Team Goals Buying @</td>\n",
              "      <td>1-6 TIX Calgary Flames vs COL Avalanche Presea...</td>\n",
              "      <td>0</td>\n",
              "    </tr>\n",
              "    <tr>\n",
              "      <th>6362</th>\n",
              "      <td>9094</td>\n",
              "      <td>suicide%20bomb</td>\n",
              "      <td>Roadside</td>\n",
              "      <td>If you ever think you running out of choices i...</td>\n",
              "      <td>0</td>\n",
              "    </tr>\n",
              "    <tr>\n",
              "      <th>800</th>\n",
              "      <td>1160</td>\n",
              "      <td>blight</td>\n",
              "      <td>Laventillemoorings</td>\n",
              "      <td>If you dotish to blight your car go right ahea...</td>\n",
              "      <td>0</td>\n",
              "    </tr>\n",
              "    <tr>\n",
              "      <th>3074</th>\n",
              "      <td>4410</td>\n",
              "      <td>electrocute</td>\n",
              "      <td>Naperville</td>\n",
              "      <td>Electrocute yourself</td>\n",
              "      <td>0</td>\n",
              "    </tr>\n",
              "    <tr>\n",
              "      <th>1833</th>\n",
              "      <td>2635</td>\n",
              "      <td>crashed</td>\n",
              "      <td>Lindenhurst</td>\n",
              "      <td>Thief Broke Front Window Of Hicksville Store S...</td>\n",
              "      <td>0</td>\n",
              "    </tr>\n",
              "    <tr>\n",
              "      <th>2272</th>\n",
              "      <td>3259</td>\n",
              "      <td>demolish</td>\n",
              "      <td>Eastbourne England</td>\n",
              "      <td>Doone Silver Architects has won permission to ...</td>\n",
              "      <td>0</td>\n",
              "    </tr>\n",
              "    <tr>\n",
              "      <th>1234</th>\n",
              "      <td>1775</td>\n",
              "      <td>buildings%20on%20fire</td>\n",
              "      <td>Manchester, NH</td>\n",
              "      <td>Fire destroys two buildings on 2nd Street in #...</td>\n",
              "      <td>1</td>\n",
              "    </tr>\n",
              "    <tr>\n",
              "      <th>1326</th>\n",
              "      <td>1917</td>\n",
              "      <td>burning</td>\n",
              "      <td>[ kate + they/them + infp-t ]</td>\n",
              "      <td>@minsuwoongs i completely understand because i...</td>\n",
              "      <td>0</td>\n",
              "    </tr>\n",
              "  </tbody>\n",
              "</table>\n",
              "</div>\n",
              "      <button class=\"colab-df-convert\" onclick=\"convertToInteractive('df-49d714ee-08f6-41fe-a98c-4c937de57f11')\"\n",
              "              title=\"Convert this dataframe to an interactive table.\"\n",
              "              style=\"display:none;\">\n",
              "        \n",
              "  <svg xmlns=\"http://www.w3.org/2000/svg\" height=\"24px\"viewBox=\"0 0 24 24\"\n",
              "       width=\"24px\">\n",
              "    <path d=\"M0 0h24v24H0V0z\" fill=\"none\"/>\n",
              "    <path d=\"M18.56 5.44l.94 2.06.94-2.06 2.06-.94-2.06-.94-.94-2.06-.94 2.06-2.06.94zm-11 1L8.5 8.5l.94-2.06 2.06-.94-2.06-.94L8.5 2.5l-.94 2.06-2.06.94zm10 10l.94 2.06.94-2.06 2.06-.94-2.06-.94-.94-2.06-.94 2.06-2.06.94z\"/><path d=\"M17.41 7.96l-1.37-1.37c-.4-.4-.92-.59-1.43-.59-.52 0-1.04.2-1.43.59L10.3 9.45l-7.72 7.72c-.78.78-.78 2.05 0 2.83L4 21.41c.39.39.9.59 1.41.59.51 0 1.02-.2 1.41-.59l7.78-7.78 2.81-2.81c.8-.78.8-2.07 0-2.86zM5.41 20L4 18.59l7.72-7.72 1.47 1.35L5.41 20z\"/>\n",
              "  </svg>\n",
              "      </button>\n",
              "      \n",
              "  <style>\n",
              "    .colab-df-container {\n",
              "      display:flex;\n",
              "      flex-wrap:wrap;\n",
              "      gap: 12px;\n",
              "    }\n",
              "\n",
              "    .colab-df-convert {\n",
              "      background-color: #E8F0FE;\n",
              "      border: none;\n",
              "      border-radius: 50%;\n",
              "      cursor: pointer;\n",
              "      display: none;\n",
              "      fill: #1967D2;\n",
              "      height: 32px;\n",
              "      padding: 0 0 0 0;\n",
              "      width: 32px;\n",
              "    }\n",
              "\n",
              "    .colab-df-convert:hover {\n",
              "      background-color: #E2EBFA;\n",
              "      box-shadow: 0px 1px 2px rgba(60, 64, 67, 0.3), 0px 1px 3px 1px rgba(60, 64, 67, 0.15);\n",
              "      fill: #174EA6;\n",
              "    }\n",
              "\n",
              "    [theme=dark] .colab-df-convert {\n",
              "      background-color: #3B4455;\n",
              "      fill: #D2E3FC;\n",
              "    }\n",
              "\n",
              "    [theme=dark] .colab-df-convert:hover {\n",
              "      background-color: #434B5C;\n",
              "      box-shadow: 0px 1px 3px 1px rgba(0, 0, 0, 0.15);\n",
              "      filter: drop-shadow(0px 1px 2px rgba(0, 0, 0, 0.3));\n",
              "      fill: #FFFFFF;\n",
              "    }\n",
              "  </style>\n",
              "\n",
              "      <script>\n",
              "        const buttonEl =\n",
              "          document.querySelector('#df-49d714ee-08f6-41fe-a98c-4c937de57f11 button.colab-df-convert');\n",
              "        buttonEl.style.display =\n",
              "          google.colab.kernel.accessAllowed ? 'block' : 'none';\n",
              "\n",
              "        async function convertToInteractive(key) {\n",
              "          const element = document.querySelector('#df-49d714ee-08f6-41fe-a98c-4c937de57f11');\n",
              "          const dataTable =\n",
              "            await google.colab.kernel.invokeFunction('convertToInteractive',\n",
              "                                                     [key], {});\n",
              "          if (!dataTable) return;\n",
              "\n",
              "          const docLinkHtml = 'Like what you see? Visit the ' +\n",
              "            '<a target=\"_blank\" href=https://colab.research.google.com/notebooks/data_table.ipynb>data table notebook</a>'\n",
              "            + ' to learn more about interactive tables.';\n",
              "          element.innerHTML = '';\n",
              "          dataTable['output_type'] = 'display_data';\n",
              "          await google.colab.output.renderOutput(dataTable, element);\n",
              "          const docLink = document.createElement('div');\n",
              "          docLink.innerHTML = docLinkHtml;\n",
              "          element.appendChild(docLink);\n",
              "        }\n",
              "      </script>\n",
              "    </div>\n",
              "  </div>\n",
              "  "
            ]
          },
          "metadata": {}
        }
      ],
      "source": [
        "# shuffle the train data then split for validation\n",
        "np.random.seed(0)\n",
        "train_df_shuffled = train_df.reindex(np.random.permutation(train_df.shape[0]))\n",
        "display(train_df_shuffled[:10])"
      ]
    },
    {
      "cell_type": "code",
      "execution_count": null,
      "metadata": {
        "colab": {
          "base_uri": "https://localhost:8080/",
          "height": 275
        },
        "id": "-S1c4i85pP60",
        "outputId": "789459e0-b01a-43cb-9d61-67356403d0b0"
      },
      "outputs": [
        {
          "output_type": "stream",
          "name": "stdout",
          "text": [
            "Train feature shape: (6852, 4)\n",
            "Train labels shape: (6852,)\n",
            "Validate feature shape: (761, 4)\n",
            "Validate labels shape: (761,)\n"
          ]
        },
        {
          "output_type": "display_data",
          "data": {
            "text/plain": [
              "        id         keyword                   location  \\\n",
              "311    454      armageddon              Wrigley Field   \n",
              "4970  7086        meltdown            Two Up Two Down   \n",
              "527    762       avalanche  Score Team Goals Buying @   \n",
              "6362  9094  suicide%20bomb                   Roadside   \n",
              "800   1160          blight        Laventillemoorings    \n",
              "\n",
              "                                                   text  \n",
              "311   @KatieKatCubs you already know how this shit g...  \n",
              "4970  @LeMaireLee @danharmon People Near Meltdown Co...  \n",
              "527   1-6 TIX Calgary Flames vs COL Avalanche Presea...  \n",
              "6362  If you ever think you running out of choices i...  \n",
              "800   If you dotish to blight your car go right ahea...  "
            ],
            "text/html": [
              "\n",
              "  <div id=\"df-48131797-093f-45f1-9fa1-6827c090bc60\">\n",
              "    <div class=\"colab-df-container\">\n",
              "      <div>\n",
              "<style scoped>\n",
              "    .dataframe tbody tr th:only-of-type {\n",
              "        vertical-align: middle;\n",
              "    }\n",
              "\n",
              "    .dataframe tbody tr th {\n",
              "        vertical-align: top;\n",
              "    }\n",
              "\n",
              "    .dataframe thead th {\n",
              "        text-align: right;\n",
              "    }\n",
              "</style>\n",
              "<table border=\"1\" class=\"dataframe\">\n",
              "  <thead>\n",
              "    <tr style=\"text-align: right;\">\n",
              "      <th></th>\n",
              "      <th>id</th>\n",
              "      <th>keyword</th>\n",
              "      <th>location</th>\n",
              "      <th>text</th>\n",
              "    </tr>\n",
              "  </thead>\n",
              "  <tbody>\n",
              "    <tr>\n",
              "      <th>311</th>\n",
              "      <td>454</td>\n",
              "      <td>armageddon</td>\n",
              "      <td>Wrigley Field</td>\n",
              "      <td>@KatieKatCubs you already know how this shit g...</td>\n",
              "    </tr>\n",
              "    <tr>\n",
              "      <th>4970</th>\n",
              "      <td>7086</td>\n",
              "      <td>meltdown</td>\n",
              "      <td>Two Up Two Down</td>\n",
              "      <td>@LeMaireLee @danharmon People Near Meltdown Co...</td>\n",
              "    </tr>\n",
              "    <tr>\n",
              "      <th>527</th>\n",
              "      <td>762</td>\n",
              "      <td>avalanche</td>\n",
              "      <td>Score Team Goals Buying @</td>\n",
              "      <td>1-6 TIX Calgary Flames vs COL Avalanche Presea...</td>\n",
              "    </tr>\n",
              "    <tr>\n",
              "      <th>6362</th>\n",
              "      <td>9094</td>\n",
              "      <td>suicide%20bomb</td>\n",
              "      <td>Roadside</td>\n",
              "      <td>If you ever think you running out of choices i...</td>\n",
              "    </tr>\n",
              "    <tr>\n",
              "      <th>800</th>\n",
              "      <td>1160</td>\n",
              "      <td>blight</td>\n",
              "      <td>Laventillemoorings</td>\n",
              "      <td>If you dotish to blight your car go right ahea...</td>\n",
              "    </tr>\n",
              "  </tbody>\n",
              "</table>\n",
              "</div>\n",
              "      <button class=\"colab-df-convert\" onclick=\"convertToInteractive('df-48131797-093f-45f1-9fa1-6827c090bc60')\"\n",
              "              title=\"Convert this dataframe to an interactive table.\"\n",
              "              style=\"display:none;\">\n",
              "        \n",
              "  <svg xmlns=\"http://www.w3.org/2000/svg\" height=\"24px\"viewBox=\"0 0 24 24\"\n",
              "       width=\"24px\">\n",
              "    <path d=\"M0 0h24v24H0V0z\" fill=\"none\"/>\n",
              "    <path d=\"M18.56 5.44l.94 2.06.94-2.06 2.06-.94-2.06-.94-.94-2.06-.94 2.06-2.06.94zm-11 1L8.5 8.5l.94-2.06 2.06-.94-2.06-.94L8.5 2.5l-.94 2.06-2.06.94zm10 10l.94 2.06.94-2.06 2.06-.94-2.06-.94-.94-2.06-.94 2.06-2.06.94z\"/><path d=\"M17.41 7.96l-1.37-1.37c-.4-.4-.92-.59-1.43-.59-.52 0-1.04.2-1.43.59L10.3 9.45l-7.72 7.72c-.78.78-.78 2.05 0 2.83L4 21.41c.39.39.9.59 1.41.59.51 0 1.02-.2 1.41-.59l7.78-7.78 2.81-2.81c.8-.78.8-2.07 0-2.86zM5.41 20L4 18.59l7.72-7.72 1.47 1.35L5.41 20z\"/>\n",
              "  </svg>\n",
              "      </button>\n",
              "      \n",
              "  <style>\n",
              "    .colab-df-container {\n",
              "      display:flex;\n",
              "      flex-wrap:wrap;\n",
              "      gap: 12px;\n",
              "    }\n",
              "\n",
              "    .colab-df-convert {\n",
              "      background-color: #E8F0FE;\n",
              "      border: none;\n",
              "      border-radius: 50%;\n",
              "      cursor: pointer;\n",
              "      display: none;\n",
              "      fill: #1967D2;\n",
              "      height: 32px;\n",
              "      padding: 0 0 0 0;\n",
              "      width: 32px;\n",
              "    }\n",
              "\n",
              "    .colab-df-convert:hover {\n",
              "      background-color: #E2EBFA;\n",
              "      box-shadow: 0px 1px 2px rgba(60, 64, 67, 0.3), 0px 1px 3px 1px rgba(60, 64, 67, 0.15);\n",
              "      fill: #174EA6;\n",
              "    }\n",
              "\n",
              "    [theme=dark] .colab-df-convert {\n",
              "      background-color: #3B4455;\n",
              "      fill: #D2E3FC;\n",
              "    }\n",
              "\n",
              "    [theme=dark] .colab-df-convert:hover {\n",
              "      background-color: #434B5C;\n",
              "      box-shadow: 0px 1px 3px 1px rgba(0, 0, 0, 0.15);\n",
              "      filter: drop-shadow(0px 1px 2px rgba(0, 0, 0, 0.3));\n",
              "      fill: #FFFFFF;\n",
              "    }\n",
              "  </style>\n",
              "\n",
              "      <script>\n",
              "        const buttonEl =\n",
              "          document.querySelector('#df-48131797-093f-45f1-9fa1-6827c090bc60 button.colab-df-convert');\n",
              "        buttonEl.style.display =\n",
              "          google.colab.kernel.accessAllowed ? 'block' : 'none';\n",
              "\n",
              "        async function convertToInteractive(key) {\n",
              "          const element = document.querySelector('#df-48131797-093f-45f1-9fa1-6827c090bc60');\n",
              "          const dataTable =\n",
              "            await google.colab.kernel.invokeFunction('convertToInteractive',\n",
              "                                                     [key], {});\n",
              "          if (!dataTable) return;\n",
              "\n",
              "          const docLinkHtml = 'Like what you see? Visit the ' +\n",
              "            '<a target=\"_blank\" href=https://colab.research.google.com/notebooks/data_table.ipynb>data table notebook</a>'\n",
              "            + ' to learn more about interactive tables.';\n",
              "          element.innerHTML = '';\n",
              "          dataTable['output_type'] = 'display_data';\n",
              "          await google.colab.output.renderOutput(dataTable, element);\n",
              "          const docLink = document.createElement('div');\n",
              "          docLink.innerHTML = docLinkHtml;\n",
              "          element.appendChild(docLink);\n",
              "        }\n",
              "      </script>\n",
              "    </div>\n",
              "  </div>\n",
              "  "
            ]
          },
          "metadata": {}
        }
      ],
      "source": [
        "#Note: 90 percent of 7613 is approximately 6852\n",
        "shuffled_train = train_df_shuffled[:6852]\n",
        "shuffled_validation = train_df_shuffled[6852:]\n",
        "\n",
        "features = [\"id\", \"keyword\", \"location\", \"text\"]\n",
        "\n",
        "train_features = shuffled_train[features]\n",
        "train_labels = shuffled_train[\"target\"]\n",
        "\n",
        "validate_features = shuffled_validation[features]\n",
        "validate_labels = shuffled_validation[\"target\"]\n",
        "\n",
        "print(\"Train feature shape:\", train_features.shape)\n",
        "print(\"Train labels shape:\", train_labels.shape)\n",
        "print(\"Validate feature shape:\", validate_features.shape)\n",
        "print(\"Validate labels shape:\", validate_labels.shape)\n",
        "\n",
        "display(train_features[:5])"
      ]
    },
    {
      "cell_type": "markdown",
      "metadata": {
        "id": "52puVMLA1qRF"
      },
      "source": [
        "## Calculating F1 Score\n",
        "Our model will be evaluated using F1 between the predicted and expected answers. F1 is calculated as:\n",
        "$$F_1 = 2 * \\frac{precision*recall}{precision+recall}$$\n",
        "where:\n",
        "$$precision = \\frac{TP}{TP+FP}$$\n",
        "$$recall = \\frac{TP}{TP+FN}$$"
      ]
    },
    {
      "cell_type": "code",
      "execution_count": null,
      "metadata": {
        "id": "SA4cmKXZwz-A"
      },
      "outputs": [],
      "source": [
        "# Takes in true labels and model predictions, and returns the F1 score\n",
        "def calculate_f1_score(Y_true, Y_pred):\n",
        "  TP, TN, FP, FN = 0, 0, 0, 0\n",
        "  for pred, true_val in zip(Y_pred, Y_true):\n",
        "    if pred == 1 and true_val == 1:\n",
        "      TP += 1\n",
        "    elif pred == 0 and true_val == 0:\n",
        "      TN += 1\n",
        "    elif pred == 1 and true_val == 0:\n",
        "      FP += 1\n",
        "    elif pred == 0 and true_val == 1:\n",
        "      FN += 1\n",
        "  precision = TP/(TP + FP)\n",
        "  recall = TP/(TP + FN)\n",
        "  score = 2 * (precision * recall) / (precision + recall)\n",
        "  return score"
      ]
    },
    {
      "cell_type": "markdown",
      "metadata": {
        "id": "uyZLr2nP5OHr"
      },
      "source": [
        "## Baseline Model\n",
        "For our baseline model, we have set up a list of common words that can be associated with a disaster. For each example in the training dataset, we check if the text value contains any of the words in our predetermined list and if the number of characters in the text is greater than 40. If it meets both conditions, the prediction is positive, else negative."
      ]
    },
    {
      "cell_type": "code",
      "execution_count": null,
      "metadata": {
        "id": "ezanWTbwgYlE"
      },
      "outputs": [],
      "source": [
        "# Predetermined list of words that may be associated with disasters\n",
        "names = [\"fire\", \"flood\", \"smok\", \"emergency\", \"rain\", \"ablaze\", \"burning\", \"accident\", \"disaster\", \"crash\", \"dead\", \"death\", \"die\", \"rest\",\n",
        " \"kill\", \"annihilat\", \"fight\", \"attack\", \"arson\", \"bomb\", \"avalanch\", \"bleed\", \"landslide\", \"wav\", \"cyclon\", \"hail\", \"pandemic\", \"drought\", \"traged\",\n",
        " \"calamit\", \"mishap\", \"blast\", \"injury\", \"catastroph\", \"casualt\", \"blow\", \"bump\", \"wreckag\", \"assault\",\n",
        "  \"murder\", \"assassinat\", \"drown\", \"execut\", \"obliterate\", \"slaughter\", \"poison\", \"electrocut\", \"eradicat\", \"destroy\", \"desolated\", \"desolating\",\n",
        "  \"risk\", \"disrupt\", \"colli\", \"derail\", 'debris', \"demoli\", \"delug\", \"debris\", \"suicide\", \"wildfire\", \"typhoon-devastated\", \"violent\", \"severe\",\n",
        "  \"suffer\", \"shot\", \"shoot\", \"earthquake\", \"terrorism\", \"horror\", \"famine\", \"fear\", \"flame\", \"hazard\", \"hailstorm\", \"hellfire\", \"hostage\"\n",
        "  ]\n",
        "\n",
        "#predicting a sentence is about a disaster if it has at least one of the words in names and has a length of at least 41.\n",
        "def baseline(input_features):\n",
        "  preds = []\n",
        "  for row in input_features.iterrows():\n",
        "    sentence = row[1][\"text\"].lower()\n",
        "    gotten = False\n",
        "    for word in names:\n",
        "      if word in sentence and len(sentence) > 40:\n",
        "        preds.append(1)\n",
        "        gotten = True\n",
        "        break\n",
        "    if not gotten:\n",
        "      preds.append(0)\n",
        "  return preds"
      ]
    },
    {
      "cell_type": "code",
      "execution_count": null,
      "metadata": {
        "colab": {
          "base_uri": "https://localhost:8080/"
        },
        "id": "x2NKoJMH5G6t",
        "outputId": "821fb8e6-ba98-4f96-d785-378f3de79da5"
      },
      "outputs": [
        {
          "output_type": "stream",
          "name": "stdout",
          "text": [
            "0.6229709035222053\n",
            "0.6582278481012659\n"
          ]
        }
      ],
      "source": [
        "# Getting predictions from the baseline model on training data and validation data\n",
        "Y_preds = baseline(train_features)\n",
        "Y_validate_preds = baseline(validate_features)\n",
        "\n",
        "# Evaluating the baseline predictions on training and validation data using F1\n",
        "print(calculate_f1_score(train_labels, Y_preds))\n",
        "print(calculate_f1_score(validate_labels, Y_validate_preds))"
      ]
    },
    {
      "cell_type": "code",
      "execution_count": null,
      "metadata": {
        "colab": {
          "base_uri": "https://localhost:8080/",
          "height": 423
        },
        "id": "XD1VVC5H-X6w",
        "outputId": "a476068f-368d-4b5a-b46f-cf0a3e0f2b95"
      },
      "outputs": [
        {
          "output_type": "display_data",
          "data": {
            "text/plain": [
              "         id  target\n",
              "0         0       0\n",
              "1         2       1\n",
              "2         3       1\n",
              "3         9       0\n",
              "4        11       1\n",
              "...     ...     ...\n",
              "3258  10861       1\n",
              "3259  10865       1\n",
              "3260  10868       1\n",
              "3261  10874       1\n",
              "3262  10875       1\n",
              "\n",
              "[3263 rows x 2 columns]"
            ],
            "text/html": [
              "\n",
              "  <div id=\"df-729a0b97-12ab-44f2-9e34-e2a11d6da6cd\">\n",
              "    <div class=\"colab-df-container\">\n",
              "      <div>\n",
              "<style scoped>\n",
              "    .dataframe tbody tr th:only-of-type {\n",
              "        vertical-align: middle;\n",
              "    }\n",
              "\n",
              "    .dataframe tbody tr th {\n",
              "        vertical-align: top;\n",
              "    }\n",
              "\n",
              "    .dataframe thead th {\n",
              "        text-align: right;\n",
              "    }\n",
              "</style>\n",
              "<table border=\"1\" class=\"dataframe\">\n",
              "  <thead>\n",
              "    <tr style=\"text-align: right;\">\n",
              "      <th></th>\n",
              "      <th>id</th>\n",
              "      <th>target</th>\n",
              "    </tr>\n",
              "  </thead>\n",
              "  <tbody>\n",
              "    <tr>\n",
              "      <th>0</th>\n",
              "      <td>0</td>\n",
              "      <td>0</td>\n",
              "    </tr>\n",
              "    <tr>\n",
              "      <th>1</th>\n",
              "      <td>2</td>\n",
              "      <td>1</td>\n",
              "    </tr>\n",
              "    <tr>\n",
              "      <th>2</th>\n",
              "      <td>3</td>\n",
              "      <td>1</td>\n",
              "    </tr>\n",
              "    <tr>\n",
              "      <th>3</th>\n",
              "      <td>9</td>\n",
              "      <td>0</td>\n",
              "    </tr>\n",
              "    <tr>\n",
              "      <th>4</th>\n",
              "      <td>11</td>\n",
              "      <td>1</td>\n",
              "    </tr>\n",
              "    <tr>\n",
              "      <th>...</th>\n",
              "      <td>...</td>\n",
              "      <td>...</td>\n",
              "    </tr>\n",
              "    <tr>\n",
              "      <th>3258</th>\n",
              "      <td>10861</td>\n",
              "      <td>1</td>\n",
              "    </tr>\n",
              "    <tr>\n",
              "      <th>3259</th>\n",
              "      <td>10865</td>\n",
              "      <td>1</td>\n",
              "    </tr>\n",
              "    <tr>\n",
              "      <th>3260</th>\n",
              "      <td>10868</td>\n",
              "      <td>1</td>\n",
              "    </tr>\n",
              "    <tr>\n",
              "      <th>3261</th>\n",
              "      <td>10874</td>\n",
              "      <td>1</td>\n",
              "    </tr>\n",
              "    <tr>\n",
              "      <th>3262</th>\n",
              "      <td>10875</td>\n",
              "      <td>1</td>\n",
              "    </tr>\n",
              "  </tbody>\n",
              "</table>\n",
              "<p>3263 rows × 2 columns</p>\n",
              "</div>\n",
              "      <button class=\"colab-df-convert\" onclick=\"convertToInteractive('df-729a0b97-12ab-44f2-9e34-e2a11d6da6cd')\"\n",
              "              title=\"Convert this dataframe to an interactive table.\"\n",
              "              style=\"display:none;\">\n",
              "        \n",
              "  <svg xmlns=\"http://www.w3.org/2000/svg\" height=\"24px\"viewBox=\"0 0 24 24\"\n",
              "       width=\"24px\">\n",
              "    <path d=\"M0 0h24v24H0V0z\" fill=\"none\"/>\n",
              "    <path d=\"M18.56 5.44l.94 2.06.94-2.06 2.06-.94-2.06-.94-.94-2.06-.94 2.06-2.06.94zm-11 1L8.5 8.5l.94-2.06 2.06-.94-2.06-.94L8.5 2.5l-.94 2.06-2.06.94zm10 10l.94 2.06.94-2.06 2.06-.94-2.06-.94-.94-2.06-.94 2.06-2.06.94z\"/><path d=\"M17.41 7.96l-1.37-1.37c-.4-.4-.92-.59-1.43-.59-.52 0-1.04.2-1.43.59L10.3 9.45l-7.72 7.72c-.78.78-.78 2.05 0 2.83L4 21.41c.39.39.9.59 1.41.59.51 0 1.02-.2 1.41-.59l7.78-7.78 2.81-2.81c.8-.78.8-2.07 0-2.86zM5.41 20L4 18.59l7.72-7.72 1.47 1.35L5.41 20z\"/>\n",
              "  </svg>\n",
              "      </button>\n",
              "      \n",
              "  <style>\n",
              "    .colab-df-container {\n",
              "      display:flex;\n",
              "      flex-wrap:wrap;\n",
              "      gap: 12px;\n",
              "    }\n",
              "\n",
              "    .colab-df-convert {\n",
              "      background-color: #E8F0FE;\n",
              "      border: none;\n",
              "      border-radius: 50%;\n",
              "      cursor: pointer;\n",
              "      display: none;\n",
              "      fill: #1967D2;\n",
              "      height: 32px;\n",
              "      padding: 0 0 0 0;\n",
              "      width: 32px;\n",
              "    }\n",
              "\n",
              "    .colab-df-convert:hover {\n",
              "      background-color: #E2EBFA;\n",
              "      box-shadow: 0px 1px 2px rgba(60, 64, 67, 0.3), 0px 1px 3px 1px rgba(60, 64, 67, 0.15);\n",
              "      fill: #174EA6;\n",
              "    }\n",
              "\n",
              "    [theme=dark] .colab-df-convert {\n",
              "      background-color: #3B4455;\n",
              "      fill: #D2E3FC;\n",
              "    }\n",
              "\n",
              "    [theme=dark] .colab-df-convert:hover {\n",
              "      background-color: #434B5C;\n",
              "      box-shadow: 0px 1px 3px 1px rgba(0, 0, 0, 0.15);\n",
              "      filter: drop-shadow(0px 1px 2px rgba(0, 0, 0, 0.3));\n",
              "      fill: #FFFFFF;\n",
              "    }\n",
              "  </style>\n",
              "\n",
              "      <script>\n",
              "        const buttonEl =\n",
              "          document.querySelector('#df-729a0b97-12ab-44f2-9e34-e2a11d6da6cd button.colab-df-convert');\n",
              "        buttonEl.style.display =\n",
              "          google.colab.kernel.accessAllowed ? 'block' : 'none';\n",
              "\n",
              "        async function convertToInteractive(key) {\n",
              "          const element = document.querySelector('#df-729a0b97-12ab-44f2-9e34-e2a11d6da6cd');\n",
              "          const dataTable =\n",
              "            await google.colab.kernel.invokeFunction('convertToInteractive',\n",
              "                                                     [key], {});\n",
              "          if (!dataTable) return;\n",
              "\n",
              "          const docLinkHtml = 'Like what you see? Visit the ' +\n",
              "            '<a target=\"_blank\" href=https://colab.research.google.com/notebooks/data_table.ipynb>data table notebook</a>'\n",
              "            + ' to learn more about interactive tables.';\n",
              "          element.innerHTML = '';\n",
              "          dataTable['output_type'] = 'display_data';\n",
              "          await google.colab.output.renderOutput(dataTable, element);\n",
              "          const docLink = document.createElement('div');\n",
              "          docLink.innerHTML = docLinkHtml;\n",
              "          element.appendChild(docLink);\n",
              "        }\n",
              "      </script>\n",
              "    </div>\n",
              "  </div>\n",
              "  "
            ]
          },
          "metadata": {}
        }
      ],
      "source": [
        "# Making baseline predictions on the test data\n",
        "test_preds = baseline(test_df)\n",
        "result = test_df[\"id\"]\n",
        "result = pd.DataFrame(result)\n",
        "result[\"target\"] = test_preds\n",
        "display(result)\n",
        "\n",
        "# Writing predictions to csv file.\n",
        "result.to_csv('submission.csv', index=False)"
      ]
    },
    {
      "cell_type": "markdown",
      "metadata": {
        "id": "AYkPMX20TJum"
      },
      "source": [
        "Baseline Score on Validation Data: 0.6582278481012659\n",
        "\n",
        "Baseline Score on Test Data from LeaderBoard: 0.63499"
      ]
    },
    {
      "cell_type": "markdown",
      "metadata": {
        "id": "r9rj_OCRny0s"
      },
      "source": [
        "## Data Analysis"
      ]
    },
    {
      "cell_type": "markdown",
      "metadata": {
        "id": "aQmUCRsmqe3k"
      },
      "source": [
        "We will start the data analysis by checking how long the tweets are when they're talking about a disaster vs when they are not. We are trying to see if this would give any distinction between disaster tweets and non-disaster tweets."
      ]
    },
    {
      "cell_type": "code",
      "execution_count": null,
      "metadata": {
        "colab": {
          "base_uri": "https://localhost:8080/",
          "height": 556
        },
        "id": "CIBbCnaFn6pl",
        "outputId": "c7024c1d-d55c-4474-ddf2-0ea5e9dcfbb7"
      },
      "outputs": [
        {
          "output_type": "display_data",
          "data": {
            "text/plain": [
              "<Figure size 640x480 with 1 Axes>"
            ],
            "image/png": "[encoded data removed]"
          },
          "metadata": {}
        },
        {
          "output_type": "stream",
          "name": "stdout",
          "text": [
            "Longest disaster tweet: 151\n",
            "Longest non-disaster tweet: 157\n",
            "(6852,)\n",
            "(6852,)\n",
            "(761,)\n",
            "(761,)\n",
            "@KatieKatCubs you already know how this shit goes. World Series or Armageddon.\n"
          ]
        }
      ],
      "source": [
        "X_train, Y_train = np.array(train_features[\"text\"]), np.array(train_labels)\n",
        "X_validate, Y_validate = np.array(validate_features[\"text\"]), np.array(validate_labels)\n",
        "\n",
        "# Create a list of lengths for training examples with a positive label.\n",
        "text_lengths_disaster = [len(x) for (i, x) in enumerate(X_train) if Y_train[i]]\n",
        "\n",
        "# And a list of lengths for training examples with a negative label.\n",
        "text_lengths_non_disaster = [len(x) for (i, x) in enumerate(X_train) if not Y_train[i]]\n",
        "\n",
        "# The histogram function can take a list of inputs and corresponding labels.\n",
        "plt.hist([text_lengths_disaster, text_lengths_non_disaster], bins=20, range=(0, 200),\n",
        "         label=['disaster tweet', 'non-disaster tweet'])\n",
        "plt.legend()\n",
        "plt.show()\n",
        "\n",
        "# Also check the longest tweets.\n",
        "print('Longest disaster tweet:', max(text_lengths_disaster))\n",
        "print('Longest non-disaster tweet:', max(text_lengths_non_disaster))\n",
        "\n",
        "print(X_train.shape)\n",
        "print(Y_train.shape)\n",
        "print(X_validate.shape)\n",
        "print(Y_validate.shape)\n",
        "print(X_train[0])"
      ]
    },
    {
      "cell_type": "markdown",
      "metadata": {
        "id": "vYX2iv6GzoJG"
      },
      "source": [
        "From the histogram, we can see that both disaster tweets and non disaster tweets have sentence length of almost all sizes. However, most of the time, non-disaster tweets are more occuring except in sentence length between 125 and 150 where disaster tweets take over."
      ]
    },
    {
      "cell_type": "markdown",
      "metadata": {
        "id": "yPjEKR4GvP-K"
      },
      "source": [
        "We then decided to move to checking how many words are in tweets talking about disasters vs non-disasters."
      ]
    },
    {
      "cell_type": "code",
      "execution_count": null,
      "metadata": {
        "colab": {
          "base_uri": "https://localhost:8080/",
          "height": 469
        },
        "id": "Urrt2KB9vPHD",
        "outputId": "9c607472-a60d-4412-d308-66a6ec0d470a"
      },
      "outputs": [
        {
          "output_type": "display_data",
          "data": {
            "text/plain": [
              "<Figure size 640x480 with 1 Axes>"
            ],
            "image/png": "[encoded data removed]"
          },
          "metadata": {}
        },
        {
          "output_type": "stream",
          "name": "stdout",
          "text": [
            "Max words in a disaster tweet: 30\n",
            "Max words in a non-disaster tweet: 31\n"
          ]
        }
      ],
      "source": [
        "# Create a list of number of words for training examples with a positive label.\n",
        "word_count_disaster = [len(x.split()) for (i, x) in enumerate(X_train) if Y_train[i]]\n",
        "\n",
        "# And a list of number of words for training examples with a negative label.\n",
        "word_count_non_disaster = [len(x.split()) for (i, x) in enumerate(X_train) if not Y_train[i]]\n",
        "\n",
        "# The histogram function can take a list of inputs and corresponding labels.\n",
        "plt.hist([word_count_disaster, word_count_non_disaster], bins=20, range=(0, 35),\n",
        "         label=['disaster tweet', 'non-disaster tweet'])\n",
        "plt.legend()\n",
        "plt.show()\n",
        "\n",
        "# Also check the maximum word count in tweets.\n",
        "print('Max words in a disaster tweet:', max(word_count_disaster))\n",
        "print('Max words in a non-disaster tweet:', max(word_count_non_disaster))"
      ]
    },
    {
      "cell_type": "markdown",
      "metadata": {
        "id": "RGiwL_vszPJu"
      },
      "source": [
        "Just like when checking the length of sentence, both disaster and non-disaster tweets occur in all word ranges with more in non-disaster tweets."
      ]
    },
    {
      "cell_type": "markdown",
      "metadata": {
        "id": "MzM18wT8xVSo"
      },
      "source": [
        "We finally decided to examine the number of times words from the `keyword` column in the training dataset appear in disaster tweets and non-disaster tweets."
      ]
    },
    {
      "cell_type": "code",
      "execution_count": null,
      "metadata": {
        "id": "6PPhKgSzxivu",
        "colab": {
          "base_uri": "https://localhost:8080/"
        },
        "outputId": "a5c5af6f-b05e-423b-b09c-d0b337759395"
      },
      "outputs": [
        {
          "output_type": "stream",
          "name": "stdout",
          "text": [
            "{'armageddon': 4, 'meltdown': 6, 'avalanche': 4, 'suicide bomb': 84, 'blight': 2, 'electrocute': 12, 'crashed': 23, 'demolish': 13, 'buildings on fire': 6, 'burning': 57, 'quarantined': 11, 'natural disaster': 15, 'exploded': 9, 'deluge': 11, 'evacuate': 50, 'chemical emergency': 0, 'destroy': 32, 'smoke': 10, 'refugees': 28, 'suicide bomber': 56, 'ruin': 4, 'survivors': 27, 'injuries': 17, 'nan': 12, 'trouble': 3, 'twister': 6, 'body bag': 5, 'bombing': 66, 'emergency plan': 14, 'demolition': 9, 'weapon': 37, 'rioting': 22, 'inundation': 1, 'accident': 64, 'annihilated': 8, 'curfew': 5, 'dead': 65, 'collapsed': 11, 'fatality': 8, 'rubble': 9, 'survived': 14, 'thunder': 61, 'trapped': 11, 'danger': 12, 'wounded': 26, 'displaced': 26, 'destruction': 11, 'drown': 24, 'devastation': 24, 'bridge collapse': 18, 'famine': 25, 'drowned': 11, 'detonate': 40, 'police': 88, 'upheaval': 5, 'fire truck': 8, 'panicking': 2, 'wounds': 11, 'traumatised': 3, 'apocalypse': 8, 'casualty': 15, 'violent storm': 9, 'tragedy': 22, 'ablaze': 12, 'whirlwind': 14, 'emergency services': 8, 'rescued': 18, 'flames': 26, 'explosion': 27, 'bomb': 192, 'hailstorm': 17, 'nuclear disaster': 16, 'deaths': 30, 'explode': 13, 'bush fires': 14, 'wildfire': 69, 'burning buildings': 21, 'panic': 7, 'mudslide': 11, 'tornado': 25, 'crush': 7, 'flood': 98, 'burned': 11, 'airplane accident': 8, 'eyewitness': 12, 'flattened': 5, 'hellfire': 5, 'hurricane': 30, 'destroyed': 8, 'fear': 38, 'body bagging': 3, 'drought': 28, 'collision': 31, 'wreck': 52, 'hostages': 25, 'crushed': 3, 'heat wave': 19, 'emergency': 66, 'blood': 14, 'lava': 6, 'hostage': 43, 'cyclone': 14, 'catastrophe': 8, 'sinkhole': 23, 'survive': 21, 'bloody': 5, 'evacuated': 27, 'obliterated': 2, 'mayhem': 1, 'arsonist': 6, 'obliteration': 4, 'rainstorm': 16, 'screaming': 3, 'devastated': 29, 'casualties': 27, 'fatalities': 23, 'terrorism': 45, 'army': 38, 'death': 60, 'trauma': 16, 'blown up': 4, 'aftershock': 1, 'rescuers': 34, 'bombed': 18, 'screamed': 3, 'sunk': 8, 'debris': 39, 'fire': 310, 'hail': 40, 'blazing': 2, 'riot': 40, 'attack': 91, 'terrorist': 35, 'mass murderer': 15, 'storm': 213, 'battle': 12, 'bioterrorism': 18, 'wreckage': 35, 'forest fires': 12, 'derailed': 23, 'wild fires': 23, 'floods': 32, 'injury': 14, 'body bags': 1, 'desolate': 6, 'derailment': 37, 'epicentre': 0, 'ambulance': 19, 'bioterror': 35, 'hijacking': 12, 'injured': 43, 'earthquake': 39, 'blizzard': 3, 'detonation': 8, 'nuclear reactor': 9, 'drowning': 8, 'collided': 22, 'military': 15, 'inundated': 5, 'collide': 25, 'attacked': 24, 'threat': 22, 'harm': 6, 'razed': 28, 'massacre': 28, 'engulfed': 18, 'hazardous': 21, 'annihilation': 8, 'evacuation': 38, 'derail': 76, 'cliff fall': 0, 'forest fire': 18, 'seismic': 12, 'bleeding': 5, 'arson': 27, 'buildings burning': 2, 'demolished': 8, 'blew up': 1, 'quarantine': 17, 'blaze': 17, 'crash': 93, 'hazard': 30, 'sandstorm': 27, 'snowstorm': 11, 'catastrophic': 23, 'screams': 5, 'loud bang': 6, 'tsunami': 12, 'windstorm': 15, 'electrocuted': 11, 'oil spill': 30, 'siren': 10, 'first responders': 10, 'rescue': 71, 'disaster': 89, 'sinking': 11, 'structural failure': 19, 'deluged': 6, 'pandemonium': 8, 'war zone': 5, 'sirens': 4, 'obliterate': 6, 'weapons': 19, 'wrecked': 2, 'damage': 38, 'outbreak': 36, 'fatal': 82, 'mass murder': 42, 'desolation': 5, 'hijacker': 17, 'typhoon': 45, 'collapse': 63, 'stretcher': 3, 'dust storm': 14, 'lightning': 24, 'volcano': 22, 'flooding': 34, 'thunderstorm': 42, 'hijack': 45, 'suicide bombing': 29, 'landslide': 18, 'radiation emergency': 0}\n",
            "{'armageddon': 30, 'meltdown': 23, 'avalanche': 20, 'suicide bomb': 2, 'blight': 22, 'electrocute': 44, 'crashed': 12, 'demolish': 44, 'buildings on fire': 1, 'burning': 51, 'quarantined': 19, 'natural disaster': 12, 'exploded': 19, 'deluge': 49, 'evacuate': 17, 'chemical emergency': 1, 'destroy': 54, 'smoke': 34, 'refugees': 11, 'suicide bomber': 0, 'ruin': 36, 'survivors': 9, 'injuries': 24, 'nan': 33, 'trouble': 23, 'twister': 30, 'body bag': 69, 'bombing': 3, 'emergency plan': 6, 'demolition': 22, 'weapon': 40, 'rioting': 11, 'inundation': 8, 'accident': 28, 'annihilated': 20, 'curfew': 31, 'dead': 40, 'collapsed': 21, 'fatality': 21, 'rubble': 15, 'survived': 24, 'thunder': 31, 'trapped': 21, 'danger': 32, 'wounded': 13, 'displaced': 10, 'destruction': 29, 'drown': 63, 'devastation': 7, 'bridge collapse': 0, 'famine': 12, 'drowned': 18, 'detonate': 18, 'police': 28, 'upheaval': 23, 'fire truck': 7, 'panicking': 25, 'wounds': 21, 'traumatised': 31, 'apocalypse': 22, 'casualty': 13, 'violent storm': 5, 'tragedy': 13, 'ablaze': 16, 'whirlwind': 20, 'emergency services': 11, 'rescued': 18, 'flames': 28, 'explosion': 17, 'bomb': 52, 'hailstorm': 4, 'nuclear disaster': 1, 'deaths': 9, 'explode': 52, 'bush fires': 2, 'wildfire': 3, 'burning buildings': 20, 'panic': 60, 'mudslide': 22, 'tornado': 11, 'crush': 53, 'flood': 43, 'burned': 29, 'airplane accident': 4, 'eyewitness': 14, 'flattened': 26, 'hellfire': 25, 'hurricane': 13, 'destroyed': 25, 'fear': 39, 'body bagging': 22, 'drought': 7, 'collision': 7, 'wreck': 59, 'hostages': 8, 'crushed': 24, 'heat wave': 8, 'emergency': 72, 'blood': 66, 'lava': 26, 'hostage': 22, 'cyclone': 10, 'catastrophe': 23, 'sinkhole': 9, 'survive': 50, 'bloody': 34, 'evacuated': 4, 'obliterated': 24, 'mayhem': 18, 'arsonist': 13, 'obliteration': 21, 'rainstorm': 11, 'screaming': 35, 'devastated': 11, 'casualties': 6, 'fatalities': 15, 'terrorism': 18, 'army': 30, 'death': 45, 'trauma': 44, 'blown up': 17, 'aftershock': 21, 'rescuers': 2, 'bombed': 20, 'screamed': 29, 'sunk': 27, 'debris': 0, 'fire': 121, 'hail': 20, 'blazing': 26, 'riot': 38, 'attack': 49, 'terrorist': 7, 'mass murderer': 9, 'storm': 96, 'battle': 35, 'bioterrorism': 9, 'wreckage': 1, 'forest fires': 5, 'derailed': 8, 'wild fires': 2, 'floods': 15, 'injury': 28, 'body bags': 22, 'desolate': 16, 'derailment': 0, 'epicentre': 7, 'ambulance': 17, 'bioterror': 18, 'hijacking': 15, 'injured': 11, 'earthquake': 6, 'blizzard': 20, 'detonation': 20, 'nuclear reactor': 11, 'drowning': 20, 'collided': 15, 'military': 34, 'inundated': 28, 'collide': 41, 'attacked': 13, 'threat': 11, 'harm': 45, 'razed': 7, 'massacre': 5, 'engulfed': 17, 'hazardous': 13, 'annihilation': 14, 'evacuation': 10, 'derail': 24, 'cliff fall': 0, 'forest fire': 7, 'seismic': 10, 'bleeding': 23, 'arson': 21, 'buildings burning': 3, 'demolished': 19, 'blew up': 23, 'quarantine': 44, 'blaze': 32, 'crash': 44, 'hazard': 41, 'sandstorm': 9, 'snowstorm': 11, 'catastrophic': 10, 'screams': 23, 'loud bang': 19, 'tsunami': 19, 'windstorm': 23, 'electrocuted': 17, 'oil spill': 1, 'siren': 42, 'first responders': 15, 'rescue': 32, 'disaster': 36, 'sinking': 28, 'structural failure': 4, 'deluged': 18, 'pandemonium': 23, 'war zone': 15, 'sirens': 20, 'obliterate': 49, 'weapons': 19, 'wrecked': 30, 'damage': 24, 'outbreak': 1, 'fatal': 48, 'mass murder': 14, 'desolation': 29, 'hijacker': 13, 'typhoon': 1, 'collapse': 44, 'stretcher': 24, 'dust storm': 7, 'lightning': 21, 'volcano': 9, 'flooding': 12, 'thunderstorm': 9, 'hijack': 37, 'suicide bombing': 0, 'landslide': 16, 'radiation emergency': 1}\n"
          ]
        }
      ],
      "source": [
        "keywords = np.array(train_features[\"keyword\"])\n",
        "\n",
        "def get_counts(token):\n",
        "  token_idx = [i for i in range(len(X_train)) if token.lower() in X_train[i].lower()]\n",
        "  token_labels = Y_train[token_idx]\n",
        "  pos_count = token_labels[token_labels == 1]\n",
        "  neg_count = token_labels[token_labels == 0]\n",
        "  return pos_count.size, neg_count.size\n",
        "\n",
        "pos_dict = {}\n",
        "neg_dict = {}\n",
        "\n",
        "for word in keywords:\n",
        "  word = str(word)\n",
        "  word = word.lower()\n",
        "  if \"%20\" in word:\n",
        "    word = word.replace(\"%20\", \" \")\n",
        "  pos, neg = get_counts(word)\n",
        "  pos_dict[word] = pos\n",
        "  neg_dict[word] = neg\n",
        "\n",
        "print(pos_dict)\n",
        "print(neg_dict)"
      ]
    },
    {
      "cell_type": "code",
      "execution_count": null,
      "metadata": {
        "id": "zIe7BvJN31I5",
        "colab": {
          "base_uri": "https://localhost:8080/",
          "height": 1000
        },
        "outputId": "4929f91b-47c3-45d4-88d7-6ce053d071dc"
      },
      "outputs": [
        {
          "output_type": "display_data",
          "data": {
            "text/plain": [
              "          keyword  positive_count\n",
              "127          fire             310\n",
              "134         storm             213\n",
              "69           bomb             192\n",
              "81          flood              98\n",
              "180         crash              93\n",
              "131        attack              91\n",
              "194      disaster              89\n",
              "53         police              88\n",
              "3    suicide bomb              84\n",
              "206         fatal              82\n",
              "169        derail              76\n",
              "193        rescue              71\n",
              "75       wildfire              69\n",
              "27        bombing              66\n",
              "97      emergency              66"
            ],
            "text/html": [
              "\n",
              "  <div id=\"df-3e79bfcd-1968-4ac1-a096-d8486a574e7d\">\n",
              "    <div class=\"colab-df-container\">\n",
              "      <div>\n",
              "<style scoped>\n",
              "    .dataframe tbody tr th:only-of-type {\n",
              "        vertical-align: middle;\n",
              "    }\n",
              "\n",
              "    .dataframe tbody tr th {\n",
              "        vertical-align: top;\n",
              "    }\n",
              "\n",
              "    .dataframe thead th {\n",
              "        text-align: right;\n",
              "    }\n",
              "</style>\n",
              "<table border=\"1\" class=\"dataframe\">\n",
              "  <thead>\n",
              "    <tr style=\"text-align: right;\">\n",
              "      <th></th>\n",
              "      <th>keyword</th>\n",
              "      <th>positive_count</th>\n",
              "    </tr>\n",
              "  </thead>\n",
              "  <tbody>\n",
              "    <tr>\n",
              "      <th>127</th>\n",
              "      <td>fire</td>\n",
              "      <td>310</td>\n",
              "    </tr>\n",
              "    <tr>\n",
              "      <th>134</th>\n",
              "      <td>storm</td>\n",
              "      <td>213</td>\n",
              "    </tr>\n",
              "    <tr>\n",
              "      <th>69</th>\n",
              "      <td>bomb</td>\n",
              "      <td>192</td>\n",
              "    </tr>\n",
              "    <tr>\n",
              "      <th>81</th>\n",
              "      <td>flood</td>\n",
              "      <td>98</td>\n",
              "    </tr>\n",
              "    <tr>\n",
              "      <th>180</th>\n",
              "      <td>crash</td>\n",
              "      <td>93</td>\n",
              "    </tr>\n",
              "    <tr>\n",
              "      <th>131</th>\n",
              "      <td>attack</td>\n",
              "      <td>91</td>\n",
              "    </tr>\n",
              "    <tr>\n",
              "      <th>194</th>\n",
              "      <td>disaster</td>\n",
              "      <td>89</td>\n",
              "    </tr>\n",
              "    <tr>\n",
              "      <th>53</th>\n",
              "      <td>police</td>\n",
              "      <td>88</td>\n",
              "    </tr>\n",
              "    <tr>\n",
              "      <th>3</th>\n",
              "      <td>suicide bomb</td>\n",
              "      <td>84</td>\n",
              "    </tr>\n",
              "    <tr>\n",
              "      <th>206</th>\n",
              "      <td>fatal</td>\n",
              "      <td>82</td>\n",
              "    </tr>\n",
              "    <tr>\n",
              "      <th>169</th>\n",
              "      <td>derail</td>\n",
              "      <td>76</td>\n",
              "    </tr>\n",
              "    <tr>\n",
              "      <th>193</th>\n",
              "      <td>rescue</td>\n",
              "      <td>71</td>\n",
              "    </tr>\n",
              "    <tr>\n",
              "      <th>75</th>\n",
              "      <td>wildfire</td>\n",
              "      <td>69</td>\n",
              "    </tr>\n",
              "    <tr>\n",
              "      <th>27</th>\n",
              "      <td>bombing</td>\n",
              "      <td>66</td>\n",
              "    </tr>\n",
              "    <tr>\n",
              "      <th>97</th>\n",
              "      <td>emergency</td>\n",
              "      <td>66</td>\n",
              "    </tr>\n",
              "  </tbody>\n",
              "</table>\n",
              "</div>\n",
              "      <button class=\"colab-df-convert\" onclick=\"convertToInteractive('df-3e79bfcd-1968-4ac1-a096-d8486a574e7d')\"\n",
              "              title=\"Convert this dataframe to an interactive table.\"\n",
              "              style=\"display:none;\">\n",
              "        \n",
              "  <svg xmlns=\"http://www.w3.org/2000/svg\" height=\"24px\"viewBox=\"0 0 24 24\"\n",
              "       width=\"24px\">\n",
              "    <path d=\"M0 0h24v24H0V0z\" fill=\"none\"/>\n",
              "    <path d=\"M18.56 5.44l.94 2.06.94-2.06 2.06-.94-2.06-.94-.94-2.06-.94 2.06-2.06.94zm-11 1L8.5 8.5l.94-2.06 2.06-.94-2.06-.94L8.5 2.5l-.94 2.06-2.06.94zm10 10l.94 2.06.94-2.06 2.06-.94-2.06-.94-.94-2.06-.94 2.06-2.06.94z\"/><path d=\"M17.41 7.96l-1.37-1.37c-.4-.4-.92-.59-1.43-.59-.52 0-1.04.2-1.43.59L10.3 9.45l-7.72 7.72c-.78.78-.78 2.05 0 2.83L4 21.41c.39.39.9.59 1.41.59.51 0 1.02-.2 1.41-.59l7.78-7.78 2.81-2.81c.8-.78.8-2.07 0-2.86zM5.41 20L4 18.59l7.72-7.72 1.47 1.35L5.41 20z\"/>\n",
              "  </svg>\n",
              "      </button>\n",
              "      \n",
              "  <style>\n",
              "    .colab-df-container {\n",
              "      display:flex;\n",
              "      flex-wrap:wrap;\n",
              "      gap: 12px;\n",
              "    }\n",
              "\n",
              "    .colab-df-convert {\n",
              "      background-color: #E8F0FE;\n",
              "      border: none;\n",
              "      border-radius: 50%;\n",
              "      cursor: pointer;\n",
              "      display: none;\n",
              "      fill: #1967D2;\n",
              "      height: 32px;\n",
              "      padding: 0 0 0 0;\n",
              "      width: 32px;\n",
              "    }\n",
              "\n",
              "    .colab-df-convert:hover {\n",
              "      background-color: #E2EBFA;\n",
              "      box-shadow: 0px 1px 2px rgba(60, 64, 67, 0.3), 0px 1px 3px 1px rgba(60, 64, 67, 0.15);\n",
              "      fill: #174EA6;\n",
              "    }\n",
              "\n",
              "    [theme=dark] .colab-df-convert {\n",
              "      background-color: #3B4455;\n",
              "      fill: #D2E3FC;\n",
              "    }\n",
              "\n",
              "    [theme=dark] .colab-df-convert:hover {\n",
              "      background-color: #434B5C;\n",
              "      box-shadow: 0px 1px 3px 1px rgba(0, 0, 0, 0.15);\n",
              "      filter: drop-shadow(0px 1px 2px rgba(0, 0, 0, 0.3));\n",
              "      fill: #FFFFFF;\n",
              "    }\n",
              "  </style>\n",
              "\n",
              "      <script>\n",
              "        const buttonEl =\n",
              "          document.querySelector('#df-3e79bfcd-1968-4ac1-a096-d8486a574e7d button.colab-df-convert');\n",
              "        buttonEl.style.display =\n",
              "          google.colab.kernel.accessAllowed ? 'block' : 'none';\n",
              "\n",
              "        async function convertToInteractive(key) {\n",
              "          const element = document.querySelector('#df-3e79bfcd-1968-4ac1-a096-d8486a574e7d');\n",
              "          const dataTable =\n",
              "            await google.colab.kernel.invokeFunction('convertToInteractive',\n",
              "                                                     [key], {});\n",
              "          if (!dataTable) return;\n",
              "\n",
              "          const docLinkHtml = 'Like what you see? Visit the ' +\n",
              "            '<a target=\"_blank\" href=https://colab.research.google.com/notebooks/data_table.ipynb>data table notebook</a>'\n",
              "            + ' to learn more about interactive tables.';\n",
              "          element.innerHTML = '';\n",
              "          dataTable['output_type'] = 'display_data';\n",
              "          await google.colab.output.renderOutput(dataTable, element);\n",
              "          const docLink = document.createElement('div');\n",
              "          docLink.innerHTML = docLinkHtml;\n",
              "          element.appendChild(docLink);\n",
              "        }\n",
              "      </script>\n",
              "    </div>\n",
              "  </div>\n",
              "  "
            ]
          },
          "metadata": {}
        },
        {
          "output_type": "display_data",
          "data": {
            "text/plain": [
              "       keyword  negative_count\n",
              "127       fire             121\n",
              "134      storm              96\n",
              "97   emergency              72\n",
              "26    body bag              69\n",
              "98       blood              66\n",
              "47       drown              63\n",
              "77       panic              60\n",
              "93       wreck              59\n",
              "16     destroy              54\n",
              "80       crush              53\n",
              "73     explode              52\n",
              "69        bomb              52\n",
              "9      burning              51\n",
              "104    survive              50\n",
              "13      deluge              49"
            ],
            "text/html": [
              "\n",
              "  <div id=\"df-caeafd2e-222c-4de8-ba8a-9449b0858261\">\n",
              "    <div class=\"colab-df-container\">\n",
              "      <div>\n",
              "<style scoped>\n",
              "    .dataframe tbody tr th:only-of-type {\n",
              "        vertical-align: middle;\n",
              "    }\n",
              "\n",
              "    .dataframe tbody tr th {\n",
              "        vertical-align: top;\n",
              "    }\n",
              "\n",
              "    .dataframe thead th {\n",
              "        text-align: right;\n",
              "    }\n",
              "</style>\n",
              "<table border=\"1\" class=\"dataframe\">\n",
              "  <thead>\n",
              "    <tr style=\"text-align: right;\">\n",
              "      <th></th>\n",
              "      <th>keyword</th>\n",
              "      <th>negative_count</th>\n",
              "    </tr>\n",
              "  </thead>\n",
              "  <tbody>\n",
              "    <tr>\n",
              "      <th>127</th>\n",
              "      <td>fire</td>\n",
              "      <td>121</td>\n",
              "    </tr>\n",
              "    <tr>\n",
              "      <th>134</th>\n",
              "      <td>storm</td>\n",
              "      <td>96</td>\n",
              "    </tr>\n",
              "    <tr>\n",
              "      <th>97</th>\n",
              "      <td>emergency</td>\n",
              "      <td>72</td>\n",
              "    </tr>\n",
              "    <tr>\n",
              "      <th>26</th>\n",
              "      <td>body bag</td>\n",
              "      <td>69</td>\n",
              "    </tr>\n",
              "    <tr>\n",
              "      <th>98</th>\n",
              "      <td>blood</td>\n",
              "      <td>66</td>\n",
              "    </tr>\n",
              "    <tr>\n",
              "      <th>47</th>\n",
              "      <td>drown</td>\n",
              "      <td>63</td>\n",
              "    </tr>\n",
              "    <tr>\n",
              "      <th>77</th>\n",
              "      <td>panic</td>\n",
              "      <td>60</td>\n",
              "    </tr>\n",
              "    <tr>\n",
              "      <th>93</th>\n",
              "      <td>wreck</td>\n",
              "      <td>59</td>\n",
              "    </tr>\n",
              "    <tr>\n",
              "      <th>16</th>\n",
              "      <td>destroy</td>\n",
              "      <td>54</td>\n",
              "    </tr>\n",
              "    <tr>\n",
              "      <th>80</th>\n",
              "      <td>crush</td>\n",
              "      <td>53</td>\n",
              "    </tr>\n",
              "    <tr>\n",
              "      <th>73</th>\n",
              "      <td>explode</td>\n",
              "      <td>52</td>\n",
              "    </tr>\n",
              "    <tr>\n",
              "      <th>69</th>\n",
              "      <td>bomb</td>\n",
              "      <td>52</td>\n",
              "    </tr>\n",
              "    <tr>\n",
              "      <th>9</th>\n",
              "      <td>burning</td>\n",
              "      <td>51</td>\n",
              "    </tr>\n",
              "    <tr>\n",
              "      <th>104</th>\n",
              "      <td>survive</td>\n",
              "      <td>50</td>\n",
              "    </tr>\n",
              "    <tr>\n",
              "      <th>13</th>\n",
              "      <td>deluge</td>\n",
              "      <td>49</td>\n",
              "    </tr>\n",
              "  </tbody>\n",
              "</table>\n",
              "</div>\n",
              "      <button class=\"colab-df-convert\" onclick=\"convertToInteractive('df-caeafd2e-222c-4de8-ba8a-9449b0858261')\"\n",
              "              title=\"Convert this dataframe to an interactive table.\"\n",
              "              style=\"display:none;\">\n",
              "        \n",
              "  <svg xmlns=\"http://www.w3.org/2000/svg\" height=\"24px\"viewBox=\"0 0 24 24\"\n",
              "       width=\"24px\">\n",
              "    <path d=\"M0 0h24v24H0V0z\" fill=\"none\"/>\n",
              "    <path d=\"M18.56 5.44l.94 2.06.94-2.06 2.06-.94-2.06-.94-.94-2.06-.94 2.06-2.06.94zm-11 1L8.5 8.5l.94-2.06 2.06-.94-2.06-.94L8.5 2.5l-.94 2.06-2.06.94zm10 10l.94 2.06.94-2.06 2.06-.94-2.06-.94-.94-2.06-.94 2.06-2.06.94z\"/><path d=\"M17.41 7.96l-1.37-1.37c-.4-.4-.92-.59-1.43-.59-.52 0-1.04.2-1.43.59L10.3 9.45l-7.72 7.72c-.78.78-.78 2.05 0 2.83L4 21.41c.39.39.9.59 1.41.59.51 0 1.02-.2 1.41-.59l7.78-7.78 2.81-2.81c.8-.78.8-2.07 0-2.86zM5.41 20L4 18.59l7.72-7.72 1.47 1.35L5.41 20z\"/>\n",
              "  </svg>\n",
              "      </button>\n",
              "      \n",
              "  <style>\n",
              "    .colab-df-container {\n",
              "      display:flex;\n",
              "      flex-wrap:wrap;\n",
              "      gap: 12px;\n",
              "    }\n",
              "\n",
              "    .colab-df-convert {\n",
              "      background-color: #E8F0FE;\n",
              "      border: none;\n",
              "      border-radius: 50%;\n",
              "      cursor: pointer;\n",
              "      display: none;\n",
              "      fill: #1967D2;\n",
              "      height: 32px;\n",
              "      padding: 0 0 0 0;\n",
              "      width: 32px;\n",
              "    }\n",
              "\n",
              "    .colab-df-convert:hover {\n",
              "      background-color: #E2EBFA;\n",
              "      box-shadow: 0px 1px 2px rgba(60, 64, 67, 0.3), 0px 1px 3px 1px rgba(60, 64, 67, 0.15);\n",
              "      fill: #174EA6;\n",
              "    }\n",
              "\n",
              "    [theme=dark] .colab-df-convert {\n",
              "      background-color: #3B4455;\n",
              "      fill: #D2E3FC;\n",
              "    }\n",
              "\n",
              "    [theme=dark] .colab-df-convert:hover {\n",
              "      background-color: #434B5C;\n",
              "      box-shadow: 0px 1px 3px 1px rgba(0, 0, 0, 0.15);\n",
              "      filter: drop-shadow(0px 1px 2px rgba(0, 0, 0, 0.3));\n",
              "      fill: #FFFFFF;\n",
              "    }\n",
              "  </style>\n",
              "\n",
              "      <script>\n",
              "        const buttonEl =\n",
              "          document.querySelector('#df-caeafd2e-222c-4de8-ba8a-9449b0858261 button.colab-df-convert');\n",
              "        buttonEl.style.display =\n",
              "          google.colab.kernel.accessAllowed ? 'block' : 'none';\n",
              "\n",
              "        async function convertToInteractive(key) {\n",
              "          const element = document.querySelector('#df-caeafd2e-222c-4de8-ba8a-9449b0858261');\n",
              "          const dataTable =\n",
              "            await google.colab.kernel.invokeFunction('convertToInteractive',\n",
              "                                                     [key], {});\n",
              "          if (!dataTable) return;\n",
              "\n",
              "          const docLinkHtml = 'Like what you see? Visit the ' +\n",
              "            '<a target=\"_blank\" href=https://colab.research.google.com/notebooks/data_table.ipynb>data table notebook</a>'\n",
              "            + ' to learn more about interactive tables.';\n",
              "          element.innerHTML = '';\n",
              "          dataTable['output_type'] = 'display_data';\n",
              "          await google.colab.output.renderOutput(dataTable, element);\n",
              "          const docLink = document.createElement('div');\n",
              "          docLink.innerHTML = docLinkHtml;\n",
              "          element.appendChild(docLink);\n",
              "        }\n",
              "      </script>\n",
              "    </div>\n",
              "  </div>\n",
              "  "
            ]
          },
          "metadata": {}
        }
      ],
      "source": [
        "word_frequency = pd.DataFrame({'keyword': list(pos_dict.keys()),\n",
        "                   'positive_count': list(pos_dict.values()),\n",
        "                   'negative_count': list(neg_dict.values())})\n",
        "# display(word_frequency)\n",
        "\n",
        "word_freq_by_pos = word_frequency.sort_values('positive_count', ascending=False)\n",
        "word_freq_by_neg = word_frequency.sort_values('negative_count', ascending=False)\n",
        "\n",
        "# ordering keywords by the number of times they occurred in positive and negative examples\n",
        "display(word_freq_by_pos[['keyword', 'positive_count']][:15])\n",
        "display(word_freq_by_neg[['keyword', 'negative_count']][:15])"
      ]
    },
    {
      "cell_type": "markdown",
      "metadata": {
        "id": "9_nmXUKo1CGI"
      },
      "source": [
        "From the keyword frequency value table, we noticed that there are keywords that appear in both disaster tweets (positive) and non-disaster tweets (negative). However, some keywords are more likely to appear in a disaster tweet than a non-disaster tweet. For example, `fire` is the keyword that appears the most in the training data, but it appears in more positive examples than negative examples."
      ]
    },
    {
      "cell_type": "markdown",
      "metadata": {
        "id": "ye3WMaLKrvRm"
      },
      "source": [
        "## Building Vocabulary and Transforming Data"
      ]
    },
    {
      "cell_type": "code",
      "execution_count": null,
      "metadata": {
        "id": "_9g9x7HesAB4",
        "colab": {
          "base_uri": "https://localhost:8080/"
        },
        "outputId": "cbcd4608-4b4a-404e-a37f-f5d5676a86d7"
      },
      "outputs": [
        {
          "output_type": "stream",
          "name": "stdout",
          "text": [
            "Largest ID: 21030\n"
          ]
        }
      ],
      "source": [
        "max_sequence_length = 32\n",
        "\n",
        "vectorize_layer = tf.keras.layers.TextVectorization(\n",
        "    max_tokens=None, # Maximum vocabulary size (None -> no cap)\n",
        "    standardize='lower_and_strip_punctuation', # Standarization to apply to text (None -> no standarization)\n",
        "    split='whitespace', # Values can be None (no splitting), \"whitespace\", or a Callable\n",
        "    output_mode='int',  # Values can be \"int\", \"multi_hot\", \"count\" or \"tf_idf\"\n",
        "    output_sequence_length=max_sequence_length, # Only valid in INT mode. If set, the output will have its time dimension padded or truncated to exactly output_sequence_length values\n",
        "    )\n",
        "\n",
        "vectorize_layer.adapt(X_train)\n",
        "vocab = dict(enumerate(vectorize_layer.get_vocabulary()))\n",
        "max_id = max(vocab.keys())\n",
        "print('Largest ID:', max_id)\n",
        "\n",
        "# 0: ('') - Padding Token\n",
        "# 1: ('[UNK]') - OOV Token"
      ]
    },
    {
      "cell_type": "code",
      "execution_count": null,
      "metadata": {
        "id": "dOTmEC273U-Z"
      },
      "outputs": [],
      "source": [
        "def decode(token_ids):\n",
        "  \"\"\"Return a string with the decoded text given a list of token ids.\"\"\"\n",
        "  # Try looking up each id in the index, but return '#' (for OOV) if not found.\n",
        "  tokens = [vocab.get(i, \"[UNK]\") for i in token_ids]\n",
        "\n",
        "  # Connect the string tokens with a space.\n",
        "  return ' '.join(tokens)"
      ]
    },
    {
      "cell_type": "code",
      "execution_count": null,
      "metadata": {
        "id": "fp-_kFLysoBB",
        "colab": {
          "base_uri": "https://localhost:8080/"
        },
        "outputId": "28ea62b9-2885-4b68-eeeb-170e2a42c416"
      },
      "outputs": [
        {
          "output_type": "stream",
          "name": "stdout",
          "text": [
            "tf.Tensor(\n",
            "[11708    12   551    90    61    19   210   568   102  1041    55   405\n",
            "     0     0     0     0     0     0     0     0     0     0     0     0\n",
            "     0     0     0     0     0     0     0     0], shape=(32,), dtype=int64)\n",
            "katiekatcubs you already know how this shit goes world series or armageddon                    \n"
          ]
        }
      ],
      "source": [
        "# This has accounted for special chacters and punctuation in text before vectorizing.\n",
        "X_train_vectorized = vectorize_layer(X_train)\n",
        "X_validate_vectorized = vectorize_layer(X_validate)\n",
        "\n",
        "\n",
        "print(X_train_vectorized[0])\n",
        "print(decode(np.array(X_train_vectorized[0])))"
      ]
    },
    {
      "cell_type": "markdown",
      "metadata": {
        "id": "JVNTWJd42rZ-"
      },
      "source": [
        "## Training Models"
      ]
    },
    {
      "cell_type": "markdown",
      "metadata": {
        "id": "do_f7kSk23Xy"
      },
      "source": [
        "#### Padding the Training Data\n",
        "\n",
        "As is clear from the histogram, the number of words in a tweet is variable. Since fixed-length arrays are easier to work with in Tensorflow, let's add special padding tokens at the end of each tweet until they are all the same length.\n",
        "\n",
        "We'll also use this operation to limit the number of token positions by truncating all tweets to a specified length. In the code below, as an example, we pad all training inputs to length 25 words.\n"
      ]
    },
    {
      "cell_type": "code",
      "execution_count": null,
      "metadata": {
        "id": "tvNLFjPe2ugN"
      },
      "outputs": [],
      "source": [
        "def pad_data(sequences, max_length):\n",
        "  # Keras has a convenient utility for padding a sequence.\n",
        "  # Also make sure we get a numpy array rather than an array of lists.\n",
        "  return np.array(list(\n",
        "      tf.keras.preprocessing.sequence.pad_sequences(\n",
        "          sequences, maxlen=max_length, padding='post', value=0)))\n",
        "\n",
        "X_train_padded = pad_data(X_train_vectorized, max_length=25)\n",
        "X_validate_padded = pad_data(X_validate_vectorized, max_length=25)\n"
      ]
    },
    {
      "cell_type": "markdown",
      "metadata": {
        "id": "sXm9v-iP3OgV"
      },
      "source": [
        "#### Reducing the Vocabulary\n",
        "\n",
        "We also want to be able to limit the vocabulary size. Since our padding function produces fixed-length sequences in a numpy matrix, we can use clever numpy indexing to efficiently replace all token ids larger than some value with the designated out-of-vocabulary (OOV) id.\n",
        "\n",
        "In the code below, as an example, we'll keep just token ids less than 1500, replacing all others with OOV."
      ]
    },
    {
      "cell_type": "code",
      "execution_count": null,
      "metadata": {
        "id": "wSyQRyfn3RU3",
        "colab": {
          "base_uri": "https://localhost:8080/"
        },
        "outputId": "11e12c43-1fb6-42c6-8e29-c8c3228bba2b"
      },
      "outputs": [
        {
          "output_type": "stream",
          "name": "stdout",
          "text": [
            "(6852, 25, 1500)\n",
            "(761, 25, 1500)\n"
          ]
        }
      ],
      "source": [
        "def limit_vocab(sequences, max_token_id, oov_id=1):\n",
        "  \"\"\"Replace token ids greater than or equal to max_token_id with the oov_id.\"\"\"\n",
        "  reduced_sequences = np.copy(sequences)\n",
        "  reduced_sequences[reduced_sequences >= max_token_id] = oov_id\n",
        "  return reduced_sequences\n",
        "\n",
        "X_train_reduced = limit_vocab(X_train_padded, max_token_id=1500)\n",
        "X_validate_reduced = limit_vocab(X_validate_padded, max_token_id=1500)\n",
        "\n",
        "# Create a one-hot encoding for the training data.\n",
        "X_train_one_hot = tf.keras.utils.to_categorical(X_train_reduced)\n",
        "X_validate_one_hot = tf.keras.utils.to_categorical(X_validate_reduced, num_classes=1500)\n",
        "\n",
        "print(X_train_one_hot.shape)\n",
        "print(X_validate_one_hot.shape)"
      ]
    },
    {
      "cell_type": "markdown",
      "metadata": {
        "id": "SWIMSjjN6dWu"
      },
      "source": [
        "####Feed Forward Neural Network with One-Hot Encodings by Averaging\n",
        "\n",
        "Flatten by averaging over token positions. The result is an array with average token counts, ignoring position."
      ]
    },
    {
      "cell_type": "code",
      "execution_count": null,
      "metadata": {
        "id": "HS8VOknD4MQr"
      },
      "outputs": [],
      "source": [
        "def build_onehot_model():\n",
        "  \"\"\"Build a tf.keras model for one-hot data.\"\"\"\n",
        "  # Clear session and remove randomness.\n",
        "  tf.keras.backend.clear_session()\n",
        "  tf.keras.utils.set_random_seed(0)\n",
        "\n",
        "  model = tf.keras.Sequential()\n",
        "  # This layer averages over the first dimension of the input by default.\n",
        "  model.add(tf.keras.layers.GlobalAveragePooling1D())\n",
        "  model.add(tf.keras.layers.Dense(\n",
        "      units=10,\n",
        "      activation='relu'\n",
        "  ))\n",
        "  model.add(tf.keras.layers.Dense(\n",
        "      units=128,\n",
        "      activation='relu'\n",
        "  ))\n",
        "  model.add(tf.keras.layers.Dense(\n",
        "      units=18,\n",
        "      activation='sigmoid'\n",
        "  ))\n",
        "  model.add(tf.keras.layers.Dense(\n",
        "      units=1,                     # output dim (for binary classification)\n",
        "      activation=\"sigmoid\"         # sigmoid activation for classification\n",
        "  ))\n",
        "\n",
        "  model.compile(loss='binary_crossentropy',   # this is a classification task\n",
        "                optimizer='adam',             # fancy optimizer\n",
        "                metrics=['accuracy'])\n",
        "  return model"
      ]
    },
    {
      "cell_type": "markdown",
      "metadata": {
        "id": "4KCAR5hS6tvb"
      },
      "source": [
        "Now let's try fitting the model to our training data and check performance metrics on the validation (held-out) data. But first, here's a function for plotting the learning curves given the training history object we get from Keras."
      ]
    },
    {
      "cell_type": "code",
      "execution_count": null,
      "metadata": {
        "id": "U_Iuyq9I6LCy"
      },
      "outputs": [],
      "source": [
        "def plot_history(history):\n",
        "  plt.ylabel('Loss')\n",
        "  plt.xlabel('Epoch')\n",
        "  plt.xticks(range(0, len(history['loss'] + 1)))\n",
        "  plt.plot(history['loss'], label=\"training\", marker='o')\n",
        "  plt.plot(history['val_loss'], label=\"validation\", marker='o')\n",
        "  plt.legend()\n",
        "  plt.show()"
      ]
    },
    {
      "cell_type": "code",
      "execution_count": null,
      "metadata": {
        "id": "jwn5E-9U5sK_",
        "colab": {
          "base_uri": "https://localhost:8080/",
          "height": 632
        },
        "outputId": "b0fbee25-04a2-470a-fa7e-0505303c1a13"
      },
      "outputs": [
        {
          "output_type": "stream",
          "name": "stdout",
          "text": [
            "Epoch 1/5\n",
            "108/108 [==============================] - 4s 18ms/step - loss: 0.6846 - accuracy: 0.5699 - val_loss: 0.6813 - val_accuracy: 0.5742\n",
            "Epoch 2/5\n",
            "108/108 [==============================] - 1s 12ms/step - loss: 0.6755 - accuracy: 0.5708 - val_loss: 0.6622 - val_accuracy: 0.5861\n",
            "Epoch 3/5\n",
            "108/108 [==============================] - 1s 9ms/step - loss: 0.6256 - accuracy: 0.6745 - val_loss: 0.6065 - val_accuracy: 0.7030\n",
            "Epoch 4/5\n",
            "108/108 [==============================] - 1s 9ms/step - loss: 0.5554 - accuracy: 0.7345 - val_loss: 0.5703 - val_accuracy: 0.7109\n",
            "Epoch 5/5\n",
            "108/108 [==============================] - 1s 10ms/step - loss: 0.5105 - accuracy: 0.7626 - val_loss: 0.5567 - val_accuracy: 0.7267\n"
          ]
        },
        {
          "output_type": "display_data",
          "data": {
            "text/plain": [
              "<Figure size 640x480 with 1 Axes>"
            ],
            "image/png": "[encoded data removed]"
          },
          "metadata": {}
        }
      ],
      "source": [
        "model = build_onehot_model() # LR-A\n",
        "\n",
        "# Fit the model.\n",
        "history = model.fit(\n",
        "  x = X_train_one_hot,  # one-hot training data\n",
        "  y = Y_train,          # corresponding binary labels\n",
        "  epochs=5,             # number of passes through the training data\n",
        "  batch_size=64,        # mini-batch size\n",
        "  validation_data=(X_validate_one_hot, Y_validate), # use a fraction of the examples for validation\n",
        "  verbose=1             # display some progress output during training\n",
        "  )\n",
        "\n",
        "# Convert the return value into a DataFrame so we can see the train loss\n",
        "# and binary accuracy after every epoch.\n",
        "\n",
        "history = pd.DataFrame(history.history)\n",
        "plot_history(history)"
      ]
    },
    {
      "cell_type": "code",
      "execution_count": null,
      "metadata": {
        "id": "c7-gV__il1-v",
        "colab": {
          "base_uri": "https://localhost:8080/"
        },
        "outputId": "eb1559bd-ee19-4f5c-9c1c-d157e1b5122d"
      },
      "outputs": [
        {
          "output_type": "stream",
          "name": "stdout",
          "text": [
            "24/24 [==============================] - 0s 5ms/step\n",
            "0.6413793103448276\n"
          ]
        }
      ],
      "source": [
        "# calculating F1 score on validation data\n",
        "validate_preds_raw = model.predict(X_validate_one_hot)\n",
        "validate_preds = (validate_preds_raw >= 0.5).astype(int)\n",
        "\n",
        "print(calculate_f1_score(Y_validate, validate_preds))"
      ]
    },
    {
      "cell_type": "markdown",
      "metadata": {
        "id": "oqvO0lLopBvx"
      },
      "source": [
        "##### Predictions on Test Data"
      ]
    },
    {
      "cell_type": "code",
      "execution_count": null,
      "metadata": {
        "id": "wbpwXZNppCYB",
        "colab": {
          "base_uri": "https://localhost:8080/",
          "height": 441
        },
        "outputId": "b275cb8e-b992-453b-a8d1-ce4b8891c96f"
      },
      "outputs": [
        {
          "output_type": "stream",
          "name": "stdout",
          "text": [
            "102/102 [==============================] - 1s 6ms/step\n"
          ]
        },
        {
          "output_type": "display_data",
          "data": {
            "text/plain": [
              "         id  target\n",
              "0         0       0\n",
              "1         2       0\n",
              "2         3       0\n",
              "3         9       0\n",
              "4        11       0\n",
              "...     ...     ...\n",
              "3258  10861       0\n",
              "3259  10865       0\n",
              "3260  10868       0\n",
              "3261  10874       0\n",
              "3262  10875       0\n",
              "\n",
              "[3263 rows x 2 columns]"
            ],
            "text/html": [
              "\n",
              "  <div id=\"df-4a84d064-f55d-496e-86d3-7c4f1c33cf8e\">\n",
              "    <div class=\"colab-df-container\">\n",
              "      <div>\n",
              "<style scoped>\n",
              "    .dataframe tbody tr th:only-of-type {\n",
              "        vertical-align: middle;\n",
              "    }\n",
              "\n",
              "    .dataframe tbody tr th {\n",
              "        vertical-align: top;\n",
              "    }\n",
              "\n",
              "    .dataframe thead th {\n",
              "        text-align: right;\n",
              "    }\n",
              "</style>\n",
              "<table border=\"1\" class=\"dataframe\">\n",
              "  <thead>\n",
              "    <tr style=\"text-align: right;\">\n",
              "      <th></th>\n",
              "      <th>id</th>\n",
              "      <th>target</th>\n",
              "    </tr>\n",
              "  </thead>\n",
              "  <tbody>\n",
              "    <tr>\n",
              "      <th>0</th>\n",
              "      <td>0</td>\n",
              "      <td>0</td>\n",
              "    </tr>\n",
              "    <tr>\n",
              "      <th>1</th>\n",
              "      <td>2</td>\n",
              "      <td>0</td>\n",
              "    </tr>\n",
              "    <tr>\n",
              "      <th>2</th>\n",
              "      <td>3</td>\n",
              "      <td>0</td>\n",
              "    </tr>\n",
              "    <tr>\n",
              "      <th>3</th>\n",
              "      <td>9</td>\n",
              "      <td>0</td>\n",
              "    </tr>\n",
              "    <tr>\n",
              "      <th>4</th>\n",
              "      <td>11</td>\n",
              "      <td>0</td>\n",
              "    </tr>\n",
              "    <tr>\n",
              "      <th>...</th>\n",
              "      <td>...</td>\n",
              "      <td>...</td>\n",
              "    </tr>\n",
              "    <tr>\n",
              "      <th>3258</th>\n",
              "      <td>10861</td>\n",
              "      <td>0</td>\n",
              "    </tr>\n",
              "    <tr>\n",
              "      <th>3259</th>\n",
              "      <td>10865</td>\n",
              "      <td>0</td>\n",
              "    </tr>\n",
              "    <tr>\n",
              "      <th>3260</th>\n",
              "      <td>10868</td>\n",
              "      <td>0</td>\n",
              "    </tr>\n",
              "    <tr>\n",
              "      <th>3261</th>\n",
              "      <td>10874</td>\n",
              "      <td>0</td>\n",
              "    </tr>\n",
              "    <tr>\n",
              "      <th>3262</th>\n",
              "      <td>10875</td>\n",
              "      <td>0</td>\n",
              "    </tr>\n",
              "  </tbody>\n",
              "</table>\n",
              "<p>3263 rows × 2 columns</p>\n",
              "</div>\n",
              "      <button class=\"colab-df-convert\" onclick=\"convertToInteractive('df-4a84d064-f55d-496e-86d3-7c4f1c33cf8e')\"\n",
              "              title=\"Convert this dataframe to an interactive table.\"\n",
              "              style=\"display:none;\">\n",
              "        \n",
              "  <svg xmlns=\"http://www.w3.org/2000/svg\" height=\"24px\"viewBox=\"0 0 24 24\"\n",
              "       width=\"24px\">\n",
              "    <path d=\"M0 0h24v24H0V0z\" fill=\"none\"/>\n",
              "    <path d=\"M18.56 5.44l.94 2.06.94-2.06 2.06-.94-2.06-.94-.94-2.06-.94 2.06-2.06.94zm-11 1L8.5 8.5l.94-2.06 2.06-.94-2.06-.94L8.5 2.5l-.94 2.06-2.06.94zm10 10l.94 2.06.94-2.06 2.06-.94-2.06-.94-.94-2.06-.94 2.06-2.06.94z\"/><path d=\"M17.41 7.96l-1.37-1.37c-.4-.4-.92-.59-1.43-.59-.52 0-1.04.2-1.43.59L10.3 9.45l-7.72 7.72c-.78.78-.78 2.05 0 2.83L4 21.41c.39.39.9.59 1.41.59.51 0 1.02-.2 1.41-.59l7.78-7.78 2.81-2.81c.8-.78.8-2.07 0-2.86zM5.41 20L4 18.59l7.72-7.72 1.47 1.35L5.41 20z\"/>\n",
              "  </svg>\n",
              "      </button>\n",
              "      \n",
              "  <style>\n",
              "    .colab-df-container {\n",
              "      display:flex;\n",
              "      flex-wrap:wrap;\n",
              "      gap: 12px;\n",
              "    }\n",
              "\n",
              "    .colab-df-convert {\n",
              "      background-color: #E8F0FE;\n",
              "      border: none;\n",
              "      border-radius: 50%;\n",
              "      cursor: pointer;\n",
              "      display: none;\n",
              "      fill: #1967D2;\n",
              "      height: 32px;\n",
              "      padding: 0 0 0 0;\n",
              "      width: 32px;\n",
              "    }\n",
              "\n",
              "    .colab-df-convert:hover {\n",
              "      background-color: #E2EBFA;\n",
              "      box-shadow: 0px 1px 2px rgba(60, 64, 67, 0.3), 0px 1px 3px 1px rgba(60, 64, 67, 0.15);\n",
              "      fill: #174EA6;\n",
              "    }\n",
              "\n",
              "    [theme=dark] .colab-df-convert {\n",
              "      background-color: #3B4455;\n",
              "      fill: #D2E3FC;\n",
              "    }\n",
              "\n",
              "    [theme=dark] .colab-df-convert:hover {\n",
              "      background-color: #434B5C;\n",
              "      box-shadow: 0px 1px 3px 1px rgba(0, 0, 0, 0.15);\n",
              "      filter: drop-shadow(0px 1px 2px rgba(0, 0, 0, 0.3));\n",
              "      fill: #FFFFFF;\n",
              "    }\n",
              "  </style>\n",
              "\n",
              "      <script>\n",
              "        const buttonEl =\n",
              "          document.querySelector('#df-4a84d064-f55d-496e-86d3-7c4f1c33cf8e button.colab-df-convert');\n",
              "        buttonEl.style.display =\n",
              "          google.colab.kernel.accessAllowed ? 'block' : 'none';\n",
              "\n",
              "        async function convertToInteractive(key) {\n",
              "          const element = document.querySelector('#df-4a84d064-f55d-496e-86d3-7c4f1c33cf8e');\n",
              "          const dataTable =\n",
              "            await google.colab.kernel.invokeFunction('convertToInteractive',\n",
              "                                                     [key], {});\n",
              "          if (!dataTable) return;\n",
              "\n",
              "          const docLinkHtml = 'Like what you see? Visit the ' +\n",
              "            '<a target=\"_blank\" href=https://colab.research.google.com/notebooks/data_table.ipynb>data table notebook</a>'\n",
              "            + ' to learn more about interactive tables.';\n",
              "          element.innerHTML = '';\n",
              "          dataTable['output_type'] = 'display_data';\n",
              "          await google.colab.output.renderOutput(dataTable, element);\n",
              "          const docLink = document.createElement('div');\n",
              "          docLink.innerHTML = docLinkHtml;\n",
              "          element.appendChild(docLink);\n",
              "        }\n",
              "      </script>\n",
              "    </div>\n",
              "  </div>\n",
              "  "
            ]
          },
          "metadata": {}
        }
      ],
      "source": [
        "## Making predictions on test data\n",
        "X_test = test_df[\"text\"]\n",
        "\n",
        "X_test_vectorized = vectorize_layer(X_test)\n",
        "X_test_padded = pad_data(X_test_vectorized, max_length=25)\n",
        "X_test_reduced = limit_vocab(X_test_padded, max_token_id=1500)\n",
        "X_test_one_hot = tf.keras.utils.to_categorical(X_test_reduced, num_classes=1500)\n",
        "\n",
        "test_preds_raw = model.predict(X_test_one_hot)\n",
        "test_preds = (test_preds_raw >= 0.6).astype(int) #threshold = 0.6\n",
        "\n",
        "result = test_df[\"id\"]\n",
        "result = pd.DataFrame(result)\n",
        "result[\"target\"] = test_preds\n",
        "display(result)\n",
        "\n",
        "# Writing predictions to csv file.\n",
        "result.to_csv('submission.csv', index=False)"
      ]
    },
    {
      "cell_type": "markdown",
      "metadata": {
        "id": "iw6MJgWR6cqg"
      },
      "source": [
        "#####Confusion Matrix for Error Analysis"
      ]
    },
    {
      "cell_type": "code",
      "execution_count": null,
      "metadata": {
        "id": "xghDKIMy6vZP",
        "colab": {
          "base_uri": "https://localhost:8080/",
          "height": 458
        },
        "outputId": "d320ee5d-11c6-4bc2-904f-18385e820374"
      },
      "outputs": [
        {
          "output_type": "display_data",
          "data": {
            "text/plain": [
              "<Figure size 640x480 with 1 Axes>"
            ],
            "image/png": "[encoded data removed]"
          },
          "metadata": {}
        }
      ],
      "source": [
        "# Build a confusion matrix from the predictions validation data\n",
        "\n",
        "confusion_matrix = tf.math.confusion_matrix(labels=Y_validate, predictions=validate_preds)\n",
        "ax = sns.heatmap(confusion_matrix, annot=True, cmap=\"Blues\", cbar=False, fmt='d', xticklabels=[\"Not Disaster\", \"Disaster\"], yticklabels=[\"Not Disaster\", \"Disaster\"])\n",
        "ax.set(xlabel='Predicted Label', ylabel='True Label')\n",
        "plt.show()"
      ]
    },
    {
      "cell_type": "markdown",
      "metadata": {
        "id": "57k-ANg9ENP-"
      },
      "source": [
        "We can see that the true negative is 367, the true positive is 186, the false positive is 70 and the false negative is 138."
      ]
    },
    {
      "cell_type": "markdown",
      "metadata": {
        "id": "ewoHiqfCRzvR"
      },
      "source": [
        "#####Examination of Model Errors\n",
        "From analysing the error metrics or confusion matrix, we can notice that the model predicted more disaster as non-disaster(FN) than it predicted more non-disaster as disaster(FP).\n",
        "\n",
        "We can then check for miscalculation analysis by printing a few input tweets that were false negative(FN) and those that were true positive(TP) and examining the difference between these inputs."
      ]
    },
    {
      "cell_type": "code",
      "source": [
        "#Code to print a few example that are FN and TP from the model predictions(all printed results should have a true value of positive)\n",
        "#printing only 20 examples each\n",
        "\n",
        "print(\"These are those that are FN\\n\")\n",
        "count = 0\n",
        "for i in range(len(Y_validate)):\n",
        "  if not validate_preds[i] and Y_validate[i]:\n",
        "    print(X_validate[i])\n",
        "    count += 1\n",
        "  if count == 20:\n",
        "    break\n",
        "\n",
        "print(\"\\n\\nThese are those that are TP\\n\")\n",
        "count = 0\n",
        "for i in range(len(Y_validate)):\n",
        "  if validate_preds[i] and Y_validate[i]:\n",
        "    print(X_validate[i])\n",
        "    count += 1\n",
        "  if count == 20:\n",
        "    break"
      ],
      "metadata": {
        "id": "Q49367TmTNVr",
        "colab": {
          "base_uri": "https://localhost:8080/"
        },
        "outputId": "76394b5d-0b6c-42ec-8a0d-e99db362467a"
      },
      "execution_count": null,
      "outputs": [
        {
          "output_type": "stream",
          "name": "stdout",
          "text": [
            "These are those that are FN\n",
            "\n",
            "#hot  Reddit's new content policy goes into effect many horrible subreddits banned or quarantined http://t.co/nGKrZPza45 #prebreak #best\n",
            "Hiroshima survivors fight nuclear industry in Brazil ÛÒ video http://t.co/E7SHtYLbnL\n",
            "Nearly had a heart attack just now; loud bang against window next to meÛ_turns out it was two birds flying into the glass.\n",
            "Sooo police dispatch said there was a person threatening to shoot up the Walmart on Rutherford &amp; they had to evacuate\n",
            "Û÷Good SamaritansÛª shot in horror hijacking http://t.co/V5yUUALoqw #263Chat #Twimbos ZimpapersViews\n",
            "California is battling its scariest 2015 wildfire so far. http://t.co/Lec1vmS7x2\n",
            "Rand Paul's Debate Strategy 'demolish Some other bad ideas out there or point out maybe that there are some em... http://t.co/qzdqRBr4Lh\n",
            "If you did a cannon ball into the ocean then Japan would evacuate.\n",
            "The 46 returned refugees - what were they fleeing from &amp; how will the Vietnamese Govt treat them now they are returned? #Dutton #presser\n",
            "Italy: Three dead after landslide in the Italian Alps: http://t.co/42MawZb8T9 via @YouTube\n",
            "@PyrBliss ah I remember those days. In a snowstorm too.\n",
            "Zotar(50 skeleton alchemist) was electrocuted to death by Atamathon the Giant Golem on Golem Graveyard 1.\n",
            "http://t.co/GpwrC1KZ5i\n",
            "When there's a fire alarm going off in zehrs and we keep working for 20 minutes then decide to evacuate everyone..\n",
            "@AP what a violent country get the army involved to help control the killings and bring back peace to the poor people.\n",
            "We have overrun a Natural Disaster Survival server!\n",
            "@1acd4900c1424d1 @FoxNews no one is rioting burning down buildings or looting.\n",
            "@new_hart2010 #mudslide... nuff said #GBBO\n",
            "Aashiqui Actress Anu Aggarwal On Her Near-Fatal Accident http://t.co/6Otfp31LqW\n",
            "@Hurricane_Dolce no prob\n",
            "Preacher faces UK terrorism charges http://t.co/daPlllFuqK\n",
            "\n",
            "\n",
            "These are those that are TP\n",
            "\n",
            "Well that was a journey to get home! A train collided with cows on the track! ????\n",
            "SEVERE WEATHER BULLETIN No. 5 FOR: TYPHOON ÛÏ#HannaPHÛ (SOUDELOR) TROPICAL CYCLONE: WARNING ISSUED AT 5:00 PM 06... http://t.co/tHhjJw51PE Û_\n",
            "Wreckage 'Conclusively Confirmed' as From MH370: Malaysia PM: Investigators and the families of those who were... http://t.co/EdEKrmqTpQ\n",
            "Refugio oil spill may have been costlier bigger than projected http://t.co/7L6bHeXIXv | https://t.co/eMOSrMUvQa\n",
            "@BigSim50 nah Philly pundits are half the cause. They set buildings on fire to report on buildings being on fire.\n",
            "16yr old boy pic PKK suicide bomber who detonated bomb in Turkey Army trench http://t.co/H3SXfV5mtC http://t.co/IEWDreNauK\n",
            "Heavy smoke pouring out of buildings on fire in Port Coquitlam http://t.co/GeqkdaO4cV http://t.co/Dg0bGzeCgM\n",
            "#FedEx no longer to transport bioterror germs in wake of anthrax lab mishaps http://t.co/S4SiCMYRmH\n",
            "Photo: lavenderpoetrycafe: Trauma memories are encoded in images as trauma is a more sensory than cognitive... http://t.co/DMb6xP966D\n",
            "Thunderstorms with little rain expected in Central California. High fire danger. #weather #cawx http://t.co/A5GNzbuSqq\n",
            "iembot_hfo : At 10:00 AM 2 NNW Hana [Maui Co HI] COUNTY OFFICIAL reports COASTAL FLOOD #Û_ http://t.co/Gg0dZSvBZ7) http://t.co/kBe91aRCdw\n",
            "70 Years After Atomic Bombs Japan Still Struggles With War Past: The anniversary of the devastation wrought b... http://t.co/aG65u29SGo\n",
            "Two giant cranes holding a bridge collapse into nearby homes http://t.co/jBJRg3eP1Q\n",
            "RÌ©union Debris Is Almost Surely From Flight 370 Officials Say - New York Times http://t.co/VFbW3NyO9L\n",
            "The president spoke of Kennedy's diplomacy to avert nuclear disaster during the Cold War to bolster his own pitch for Congress' approval\n",
            "The Guardian view on the Hiroshima legacy: still in the shadow of the bomb | Editorial: The world longs to cas... http://t.co/ct2JUtvYTg\n",
            "#NJTurnpike å_ #NJTurnpike Reopens Hours After Truck Fire In? http://t.co/oABJZtbVyZ http://t.co/GPBXRrDc07\n",
            "@blairmcdougall and when will you be commenting on Ian Taylor's dealings with mass - murderer Arkan?\n",
            "Twelve feared killed in Pakistani air ambulance helicopter crash - Reuters http://t.co/mDnUGVuBwN #yugvani\n",
            "@SenateMajLdr let's try to do our best to prevent another outbreak of violence by talking to each other both the people and the politics\n"
          ]
        }
      ]
    },
    {
      "cell_type": "markdown",
      "metadata": {
        "id": "bPUgoT-LZNnS"
      },
      "source": [
        "####Feed Forward Neural Network with Embeddings"
      ]
    },
    {
      "cell_type": "code",
      "execution_count": null,
      "metadata": {
        "id": "lJ1j73YeVKBa"
      },
      "outputs": [],
      "source": [
        "X_train_padded = pad_data(X_train_vectorized, max_length=40)\n",
        "X_validate_padded = pad_data(X_validate_vectorized, max_length=40)\n",
        "\n",
        "X_train_reduced = limit_vocab(X_train_padded, max_token_id=7500)\n",
        "X_validate_reduced = limit_vocab(X_validate_padded, max_token_id=7500)"
      ]
    },
    {
      "cell_type": "code",
      "execution_count": null,
      "metadata": {
        "id": "37KnPQshZbqD"
      },
      "outputs": [],
      "source": [
        "def build_embeddings_model(vocab_size=7500,\n",
        "                           sequence_length=40,\n",
        "                           embedding_dim=125):\n",
        "  \"\"\"Build a tf.keras model using embeddings.\"\"\"\n",
        "  # Clear session and remove randomness.\n",
        "  tf.keras.backend.clear_session()\n",
        "  tf.keras.utils.set_random_seed(0)\n",
        "\n",
        "  model = tf.keras.Sequential()\n",
        "  model.add(tf.keras.layers.Embedding(\n",
        "      input_dim=vocab_size,\n",
        "      output_dim=embedding_dim,\n",
        "      input_length=sequence_length)\n",
        "  )\n",
        "\n",
        "  # This layer averages over the first dimension of the input by default.\n",
        "  model.add(tf.keras.layers.GlobalAveragePooling1D())\n",
        "  model.add(tf.keras.layers.Dense(\n",
        "      units=128,\n",
        "      activation='relu'\n",
        "  ))\n",
        "  model.add(tf.keras.layers.Dense(\n",
        "      units=10,\n",
        "      activation='relu'\n",
        "  ))\n",
        "  model.add(tf.keras.layers.Dense(\n",
        "      units=18,\n",
        "      activation='sigmoid'\n",
        "  ))\n",
        "  model.add(tf.keras.layers.Dense(\n",
        "      units=1,                     # output dim (for binary classification)\n",
        "      activation='sigmoid'         # apply the sigmoid function!\n",
        "  ))\n",
        "\n",
        "  model.compile(loss='binary_crossentropy',\n",
        "                optimizer='adam',\n",
        "                metrics=['accuracy'])\n",
        "\n",
        "  return model"
      ]
    },
    {
      "cell_type": "code",
      "execution_count": null,
      "metadata": {
        "id": "IJ5_s8JbZ1NB",
        "colab": {
          "base_uri": "https://localhost:8080/",
          "height": 637
        },
        "outputId": "4ce77bd2-4bca-4b11-f564-68de65853329"
      },
      "outputs": [
        {
          "output_type": "stream",
          "name": "stdout",
          "text": [
            "Epoch 1/5\n",
            "108/108 [==============================] - 2s 5ms/step - loss: 0.6834 - accuracy: 0.5699 - val_loss: 0.6807 - val_accuracy: 0.5742\n",
            "Epoch 2/5\n",
            "108/108 [==============================] - 0s 3ms/step - loss: 0.6645 - accuracy: 0.5863 - val_loss: 0.6204 - val_accuracy: 0.7162\n",
            "Epoch 3/5\n",
            "108/108 [==============================] - 0s 3ms/step - loss: 0.5174 - accuracy: 0.8015 - val_loss: 0.4848 - val_accuracy: 0.7950\n",
            "Epoch 4/5\n",
            "108/108 [==============================] - 0s 3ms/step - loss: 0.3893 - accuracy: 0.8421 - val_loss: 0.4582 - val_accuracy: 0.7989\n",
            "Epoch 5/5\n",
            "108/108 [==============================] - 0s 3ms/step - loss: 0.3292 - accuracy: 0.8710 - val_loss: 0.4549 - val_accuracy: 0.8095\n"
          ]
        },
        {
          "output_type": "display_data",
          "data": {
            "text/plain": [
              "<Figure size 640x480 with 1 Axes>"
            ],
            "image/png": "[encoded data removed]"
          },
          "metadata": {}
        }
      ],
      "source": [
        "model = build_embeddings_model(vocab_size=7500,\n",
        "                               sequence_length=40,\n",
        "                              #  embedding_dim=125)\n",
        "                               embedding_dim=3)\n",
        "\n",
        "history = model.fit(\n",
        "  x = X_train_reduced,  # our sparse padded training data\n",
        "  y = Y_train,          # corresponding binary labels\n",
        "  # epochs=3,             # number of passes through the training data\n",
        "  epochs=5,             # number of passes through the training data\n",
        "  batch_size=64,        # mini-batch size\n",
        "  validation_data=(X_validate_reduced, Y_validate), # use a fraction of the examples for validation\n",
        "  verbose=1             # display some progress output during training\n",
        "  )\n",
        "history = pd.DataFrame(history.history)\n",
        "plot_history(history)"
      ]
    },
    {
      "cell_type": "code",
      "execution_count": null,
      "metadata": {
        "id": "RrpvFhUec7R4",
        "colab": {
          "base_uri": "https://localhost:8080/"
        },
        "outputId": "fad8ba2c-5b1c-4c87-f3a2-ba671c673cb3"
      },
      "outputs": [
        {
          "output_type": "stream",
          "name": "stdout",
          "text": [
            "24/24 [==============================] - 0s 1ms/step\n",
            "0.7554806070826307\n"
          ]
        }
      ],
      "source": [
        "# calculating F1 score on validation data\n",
        "new_validate_preds_raw = model.predict(X_validate_reduced)\n",
        "new_validate_preds = (new_validate_preds_raw >= 0.6).astype(int)\n",
        "\n",
        "print(calculate_f1_score(Y_validate, new_validate_preds))"
      ]
    },
    {
      "cell_type": "markdown",
      "metadata": {
        "id": "hLkuZZCNcn6T"
      },
      "source": [
        "##### Predictions on Test Data"
      ]
    },
    {
      "cell_type": "code",
      "execution_count": null,
      "metadata": {
        "id": "ZfpPzJvXZupO",
        "colab": {
          "base_uri": "https://localhost:8080/",
          "height": 441
        },
        "outputId": "b26656f3-6866-46d2-f947-f528df83d38e"
      },
      "outputs": [
        {
          "output_type": "stream",
          "name": "stdout",
          "text": [
            "102/102 [==============================] - 0s 2ms/step\n"
          ]
        },
        {
          "output_type": "display_data",
          "data": {
            "text/plain": [
              "         id  target\n",
              "0         0       1\n",
              "1         2       0\n",
              "2         3       1\n",
              "3         9       0\n",
              "4        11       1\n",
              "...     ...     ...\n",
              "3258  10861       1\n",
              "3259  10865       1\n",
              "3260  10868       1\n",
              "3261  10874       1\n",
              "3262  10875       1\n",
              "\n",
              "[3263 rows x 2 columns]"
            ],
            "text/html": [
              "\n",
              "  <div id=\"df-2bd1f2c6-d1f3-417a-b127-4cb2e62e4421\">\n",
              "    <div class=\"colab-df-container\">\n",
              "      <div>\n",
              "<style scoped>\n",
              "    .dataframe tbody tr th:only-of-type {\n",
              "        vertical-align: middle;\n",
              "    }\n",
              "\n",
              "    .dataframe tbody tr th {\n",
              "        vertical-align: top;\n",
              "    }\n",
              "\n",
              "    .dataframe thead th {\n",
              "        text-align: right;\n",
              "    }\n",
              "</style>\n",
              "<table border=\"1\" class=\"dataframe\">\n",
              "  <thead>\n",
              "    <tr style=\"text-align: right;\">\n",
              "      <th></th>\n",
              "      <th>id</th>\n",
              "      <th>target</th>\n",
              "    </tr>\n",
              "  </thead>\n",
              "  <tbody>\n",
              "    <tr>\n",
              "      <th>0</th>\n",
              "      <td>0</td>\n",
              "      <td>1</td>\n",
              "    </tr>\n",
              "    <tr>\n",
              "      <th>1</th>\n",
              "      <td>2</td>\n",
              "      <td>0</td>\n",
              "    </tr>\n",
              "    <tr>\n",
              "      <th>2</th>\n",
              "      <td>3</td>\n",
              "      <td>1</td>\n",
              "    </tr>\n",
              "    <tr>\n",
              "      <th>3</th>\n",
              "      <td>9</td>\n",
              "      <td>0</td>\n",
              "    </tr>\n",
              "    <tr>\n",
              "      <th>4</th>\n",
              "      <td>11</td>\n",
              "      <td>1</td>\n",
              "    </tr>\n",
              "    <tr>\n",
              "      <th>...</th>\n",
              "      <td>...</td>\n",
              "      <td>...</td>\n",
              "    </tr>\n",
              "    <tr>\n",
              "      <th>3258</th>\n",
              "      <td>10861</td>\n",
              "      <td>1</td>\n",
              "    </tr>\n",
              "    <tr>\n",
              "      <th>3259</th>\n",
              "      <td>10865</td>\n",
              "      <td>1</td>\n",
              "    </tr>\n",
              "    <tr>\n",
              "      <th>3260</th>\n",
              "      <td>10868</td>\n",
              "      <td>1</td>\n",
              "    </tr>\n",
              "    <tr>\n",
              "      <th>3261</th>\n",
              "      <td>10874</td>\n",
              "      <td>1</td>\n",
              "    </tr>\n",
              "    <tr>\n",
              "      <th>3262</th>\n",
              "      <td>10875</td>\n",
              "      <td>1</td>\n",
              "    </tr>\n",
              "  </tbody>\n",
              "</table>\n",
              "<p>3263 rows × 2 columns</p>\n",
              "</div>\n",
              "      <button class=\"colab-df-convert\" onclick=\"convertToInteractive('df-2bd1f2c6-d1f3-417a-b127-4cb2e62e4421')\"\n",
              "              title=\"Convert this dataframe to an interactive table.\"\n",
              "              style=\"display:none;\">\n",
              "        \n",
              "  <svg xmlns=\"http://www.w3.org/2000/svg\" height=\"24px\"viewBox=\"0 0 24 24\"\n",
              "       width=\"24px\">\n",
              "    <path d=\"M0 0h24v24H0V0z\" fill=\"none\"/>\n",
              "    <path d=\"M18.56 5.44l.94 2.06.94-2.06 2.06-.94-2.06-.94-.94-2.06-.94 2.06-2.06.94zm-11 1L8.5 8.5l.94-2.06 2.06-.94-2.06-.94L8.5 2.5l-.94 2.06-2.06.94zm10 10l.94 2.06.94-2.06 2.06-.94-2.06-.94-.94-2.06-.94 2.06-2.06.94z\"/><path d=\"M17.41 7.96l-1.37-1.37c-.4-.4-.92-.59-1.43-.59-.52 0-1.04.2-1.43.59L10.3 9.45l-7.72 7.72c-.78.78-.78 2.05 0 2.83L4 21.41c.39.39.9.59 1.41.59.51 0 1.02-.2 1.41-.59l7.78-7.78 2.81-2.81c.8-.78.8-2.07 0-2.86zM5.41 20L4 18.59l7.72-7.72 1.47 1.35L5.41 20z\"/>\n",
              "  </svg>\n",
              "      </button>\n",
              "      \n",
              "  <style>\n",
              "    .colab-df-container {\n",
              "      display:flex;\n",
              "      flex-wrap:wrap;\n",
              "      gap: 12px;\n",
              "    }\n",
              "\n",
              "    .colab-df-convert {\n",
              "      background-color: #E8F0FE;\n",
              "      border: none;\n",
              "      border-radius: 50%;\n",
              "      cursor: pointer;\n",
              "      display: none;\n",
              "      fill: #1967D2;\n",
              "      height: 32px;\n",
              "      padding: 0 0 0 0;\n",
              "      width: 32px;\n",
              "    }\n",
              "\n",
              "    .colab-df-convert:hover {\n",
              "      background-color: #E2EBFA;\n",
              "      box-shadow: 0px 1px 2px rgba(60, 64, 67, 0.3), 0px 1px 3px 1px rgba(60, 64, 67, 0.15);\n",
              "      fill: #174EA6;\n",
              "    }\n",
              "\n",
              "    [theme=dark] .colab-df-convert {\n",
              "      background-color: #3B4455;\n",
              "      fill: #D2E3FC;\n",
              "    }\n",
              "\n",
              "    [theme=dark] .colab-df-convert:hover {\n",
              "      background-color: #434B5C;\n",
              "      box-shadow: 0px 1px 3px 1px rgba(0, 0, 0, 0.15);\n",
              "      filter: drop-shadow(0px 1px 2px rgba(0, 0, 0, 0.3));\n",
              "      fill: #FFFFFF;\n",
              "    }\n",
              "  </style>\n",
              "\n",
              "      <script>\n",
              "        const buttonEl =\n",
              "          document.querySelector('#df-2bd1f2c6-d1f3-417a-b127-4cb2e62e4421 button.colab-df-convert');\n",
              "        buttonEl.style.display =\n",
              "          google.colab.kernel.accessAllowed ? 'block' : 'none';\n",
              "\n",
              "        async function convertToInteractive(key) {\n",
              "          const element = document.querySelector('#df-2bd1f2c6-d1f3-417a-b127-4cb2e62e4421');\n",
              "          const dataTable =\n",
              "            await google.colab.kernel.invokeFunction('convertToInteractive',\n",
              "                                                     [key], {});\n",
              "          if (!dataTable) return;\n",
              "\n",
              "          const docLinkHtml = 'Like what you see? Visit the ' +\n",
              "            '<a target=\"_blank\" href=https://colab.research.google.com/notebooks/data_table.ipynb>data table notebook</a>'\n",
              "            + ' to learn more about interactive tables.';\n",
              "          element.innerHTML = '';\n",
              "          dataTable['output_type'] = 'display_data';\n",
              "          await google.colab.output.renderOutput(dataTable, element);\n",
              "          const docLink = document.createElement('div');\n",
              "          docLink.innerHTML = docLinkHtml;\n",
              "          element.appendChild(docLink);\n",
              "        }\n",
              "      </script>\n",
              "    </div>\n",
              "  </div>\n",
              "  "
            ]
          },
          "metadata": {}
        }
      ],
      "source": [
        "## Making predictions on test data\n",
        "X_test = test_df[\"text\"]\n",
        "\n",
        "X_test_vectorized = vectorize_layer(X_test)\n",
        "X_test_padded = pad_data(X_test_vectorized, max_length=40)\n",
        "X_test_reduced = limit_vocab(X_test_padded, max_token_id=7500)\n",
        "\n",
        "test_preds_raw = model.predict(X_test_reduced)\n",
        "test_preds = (test_preds_raw >= 0.6).astype(int) #threshold = 0.6\n",
        "\n",
        "result = test_df[\"id\"]\n",
        "result = pd.DataFrame(result)\n",
        "result[\"target\"] = test_preds\n",
        "display(result)\n",
        "\n",
        "# Writing predictions to csv file.\n",
        "result.to_csv('submissionFinal.csv', index=False)"
      ]
    },
    {
      "cell_type": "markdown",
      "metadata": {
        "id": "6nwGtasE6sCu"
      },
      "source": [
        "#####Confusion Matrix for Error Analysis\n"
      ]
    },
    {
      "cell_type": "code",
      "execution_count": null,
      "metadata": {
        "id": "OvOG0_s1CCqE",
        "colab": {
          "base_uri": "https://localhost:8080/",
          "height": 458
        },
        "outputId": "9855530f-6eba-4331-ce09-d149272d15ed"
      },
      "outputs": [
        {
          "output_type": "display_data",
          "data": {
            "text/plain": [
              "<Figure size 640x480 with 1 Axes>"
            ],
            "image/png": "[encoded data removed]"
          },
          "metadata": {}
        }
      ],
      "source": [
        "# Build a confusion matrix from the predictions validation data\n",
        "\n",
        "confusion_matrix = tf.math.confusion_matrix(labels=Y_validate, predictions=new_validate_preds)\n",
        "ax = sns.heatmap(confusion_matrix, annot=True, cmap=\"Blues\", cbar=False, fmt='d', xticklabels=[\"Not Disaster\", \"Disaster\"], yticklabels=[\"Not Disaster\", \"Disaster\"])\n",
        "ax.set(xlabel='Predicted Label', ylabel='True Label')\n",
        "plt.show()"
      ]
    },
    {
      "cell_type": "markdown",
      "metadata": {
        "id": "hFsyY55VC4nU"
      },
      "source": [
        "We can see that the true negative is 392, the true positive is 224, the false positive is 45 and the false negative is 100. We can see that this model is an improvement from the last ones as both true positve and true negative increased, while false negative and false positive decreased."
      ]
    },
    {
      "cell_type": "markdown",
      "metadata": {
        "id": "nVAAnTS0G1OG"
      },
      "source": [
        "#####Examination of Model Errors\n",
        "Just like in LR-A without embeddings, we can start with analyzing the error metrics or confusion matrix and noticing that the model predicts more disaster as non-disaster(FN) than it predicts more non-disaster as disaster(FP).\n",
        "\n",
        "We can then check for miscalculation analysis by printing a few input tweets that were false negative(FN) and those that were true positive(TP) and examinng the difference between these inputs."
      ]
    },
    {
      "cell_type": "code",
      "execution_count": null,
      "metadata": {
        "id": "vmCknJTpJnE9",
        "colab": {
          "base_uri": "https://localhost:8080/"
        },
        "outputId": "01e6cfb9-06a4-434f-cdeb-66451c52bc97"
      },
      "outputs": [
        {
          "output_type": "stream",
          "name": "stdout",
          "text": [
            "These are those that are FN\n",
            "\n",
            "#hot  Reddit's new content policy goes into effect many horrible subreddits banned or quarantined http://t.co/nGKrZPza45 #prebreak #best\n",
            "Nearly had a heart attack just now; loud bang against window next to meÛ_turns out it was two birds flying into the glass.\n",
            "@blairmcdougall and when will you be commenting on Ian Taylor's dealings with mass - murderer Arkan?\n",
            "@SenateMajLdr let's try to do our best to prevent another outbreak of violence by talking to each other both the people and the politics\n",
            "Rand Paul's Debate Strategy 'demolish Some other bad ideas out there or point out maybe that there are some em... http://t.co/qzdqRBr4Lh\n",
            "@_gaabyx we got purple activist I thought it was a drought\n",
            "If you did a cannon ball into the ocean then Japan would evacuate.\n",
            "@PyrBliss ah I remember those days. In a snowstorm too.\n",
            "We have overrun a Natural Disaster Survival server!\n",
            "@new_hart2010 #mudslide... nuff said #GBBO\n",
            "Aashiqui Actress Anu Aggarwal On Her Near-Fatal Accident http://t.co/6Otfp31LqW\n",
            "@Hurricane_Dolce no prob\n",
            "ÛÏ@based_georgie: yo forreal we need to have like an emergency action plan incase donald trump becomes presidentÛ\n",
            "Whipe that lil baby\n",
            "Blood Memory: Intragenerational Trauma and the Death of Sandra Bland http://t.co/ZWeyGpHpf7\n",
            "I scored 111020 points in PUNCH QUEST stopped when a squeaky bat collided into my skull. http://t.co/aEtgbxm1pL\n",
            "@MichaelWestBiz standard damage control\n",
            "@HfxStanfield @beelieveDC @DiscoveryCntr what is happening we hear there is runway lighting damage by a contractor.\n",
            "@TemecaFreeman GM! I pray any attack of the enemy 2 derail ur destiny is blocked by the Lord &amp; that He floods ur life w/heavenly Blessings\n",
            "Finnish ministers: Fennovoima nuclear reactor will go ahead http://t.co/vB3VFm76ke #worldnews #news #breakingnews\n",
            "A country Chim can survive!\n",
            "\n",
            "\n",
            "These are those that are TP\n",
            "\n",
            "Well that was a journey to get home! A train collided with cows on the track! ????\n",
            "SEVERE WEATHER BULLETIN No. 5 FOR: TYPHOON ÛÏ#HannaPHÛ (SOUDELOR) TROPICAL CYCLONE: WARNING ISSUED AT 5:00 PM 06... http://t.co/tHhjJw51PE Û_\n",
            "Wreckage 'Conclusively Confirmed' as From MH370: Malaysia PM: Investigators and the families of those who were... http://t.co/EdEKrmqTpQ\n",
            "Refugio oil spill may have been costlier bigger than projected http://t.co/7L6bHeXIXv | https://t.co/eMOSrMUvQa\n",
            "@BigSim50 nah Philly pundits are half the cause. They set buildings on fire to report on buildings being on fire.\n",
            "Hiroshima survivors fight nuclear industry in Brazil ÛÒ video http://t.co/E7SHtYLbnL\n",
            "16yr old boy pic PKK suicide bomber who detonated bomb in Turkey Army trench http://t.co/H3SXfV5mtC http://t.co/IEWDreNauK\n",
            "Heavy smoke pouring out of buildings on fire in Port Coquitlam http://t.co/GeqkdaO4cV http://t.co/Dg0bGzeCgM\n",
            "#FedEx no longer to transport bioterror germs in wake of anthrax lab mishaps http://t.co/S4SiCMYRmH\n",
            "Sooo police dispatch said there was a person threatening to shoot up the Walmart on Rutherford &amp; they had to evacuate\n",
            "Photo: lavenderpoetrycafe: Trauma memories are encoded in images as trauma is a more sensory than cognitive... http://t.co/DMb6xP966D\n",
            "Thunderstorms with little rain expected in Central California. High fire danger. #weather #cawx http://t.co/A5GNzbuSqq\n",
            "iembot_hfo : At 10:00 AM 2 NNW Hana [Maui Co HI] COUNTY OFFICIAL reports COASTAL FLOOD #Û_ http://t.co/Gg0dZSvBZ7) http://t.co/kBe91aRCdw\n",
            "70 Years After Atomic Bombs Japan Still Struggles With War Past: The anniversary of the devastation wrought b... http://t.co/aG65u29SGo\n",
            "Û÷Good SamaritansÛª shot in horror hijacking http://t.co/V5yUUALoqw #263Chat #Twimbos ZimpapersViews\n",
            "Two giant cranes holding a bridge collapse into nearby homes http://t.co/jBJRg3eP1Q\n",
            "California is battling its scariest 2015 wildfire so far. http://t.co/Lec1vmS7x2\n",
            "RÌ©union Debris Is Almost Surely From Flight 370 Officials Say - New York Times http://t.co/VFbW3NyO9L\n",
            "The president spoke of Kennedy's diplomacy to avert nuclear disaster during the Cold War to bolster his own pitch for Congress' approval\n",
            "The Guardian view on the Hiroshima legacy: still in the shadow of the bomb | Editorial: The world longs to cas... http://t.co/ct2JUtvYTg\n"
          ]
        }
      ],
      "source": [
        "#Code to print a few example that are FN and TP from the model predictions(all printed results should have a true value of positive)\n",
        "#printing only 20 examples each\n",
        "\n",
        "print(\"These are those that are FN\\n\")\n",
        "count = 0\n",
        "for i in range(len(Y_validate)):\n",
        "  if not new_validate_preds[i] and Y_validate[i]:\n",
        "    print(X_validate[i])\n",
        "    count += 1\n",
        "  if count == 20:\n",
        "    break\n",
        "\n",
        "print(\"\\n\\nThese are those that are TP\\n\")\n",
        "count = 0\n",
        "for i in range(len(Y_validate)):\n",
        "  if new_validate_preds[i] and Y_validate[i]:\n",
        "    print(X_validate[i])\n",
        "    count += 1\n",
        "  if count == 20:\n",
        "    break"
      ]
    },
    {
      "cell_type": "markdown",
      "metadata": {
        "id": "JH3ACaSiP-qh"
      },
      "source": [
        "1. The first notable difference is that almost all TP examples have links in them while only a fifth of those that are FP have http links.\n",
        "2. Also, we can see that almost every single tweet that is FN has the @ sign while only one TP tweet has an @ sign.\n",
        "\n",
        "\n",
        "To address the \"@\" symbol concern, we can consider making it a part of the vocabulary, and it becomes a learned feature for the model, rather than discarding it with other non-alphanumeric symbols in the text-preprocessing stage of the model development."
      ]
    },
    {
      "cell_type": "markdown",
      "metadata": {
        "id": "dv3S6HZ6drof"
      },
      "source": [
        "## Final Results\n",
        "\n",
        "\n",
        "\n",
        "|Model|Loss|Accuracy|Validation Loss|Validation Accuracy|F1 Score (Validation)|F1 Score (Test)\n",
        "|-|-|-|-|-|-|-|\n",
        "|Baseline|N/A|N/A|N/A|N/A|0.6582278481012659|0.63499|\n",
        "|FFNN with One-hot encodings|0.5105|0.7626|0.5567|0.7267|0.6413793103448276|0.72356|\n",
        "|FFNN with Embeddings|0.3292|0.8710|0.4549|0.8095|0.7554806070826307|0.80723|"
      ]
    },
    {
      "cell_type": "markdown",
      "metadata": {
        "id": "Di244SPtLqxz"
      },
      "source": [
        "##Conclusion\n",
        "\n",
        "We were able to build a machine learning model that predicts which Tweets are about real disasters and which one’s aren’t using FFNN with one-hot encodings and with embeddings. We also had data analyses where we analyzed the input and output and visualized data in both tables and histograms. We were also able to use a confusion matrix to visualize the model's performance. The table above has our baseline and model values for the losses, accuracies and f1 scores on both test and validation data."
      ]
    }
  ],
  "metadata": {
    "colab": {
      "provenance": [],
      "include_colab_link": true
    },
    "kernelspec": {
      "display_name": "Python 3",
      "name": "python3"
    },
    "language_info": {
      "name": "python"
    }
  },
  "nbformat": 4,
  "nbformat_minor": 0
}